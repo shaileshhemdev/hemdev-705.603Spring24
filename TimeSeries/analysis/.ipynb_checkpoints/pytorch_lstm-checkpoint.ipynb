{
  "nbformat": 4,
  "nbformat_minor": 0,
  "metadata": {
    "colab": {
      "provenance": [],
      "authorship_tag": "ABX9TyNgOZNBTQvRYb6rqjr3VOtj",
      "include_colab_link": true
    },
    "kernelspec": {
      "name": "python3",
      "display_name": "Python 3"
    },
    "language_info": {
      "name": "python"
    }
  },
  "cells": [
    {
      "cell_type": "markdown",
      "metadata": {
        "id": "view-in-github",
        "colab_type": "text"
      },
      "source": [
        "<a href=\"https://colab.research.google.com/github/microprediction/timeseries-notebooks/blob/main/pytorch_lstm.ipynb\" target=\"_parent\"><img src=\"https://colab.research.google.com/assets/colab-badge.svg\" alt=\"Open In Colab\"/></a>"
      ]
    },
    {
      "cell_type": "code",
      "execution_count": null,
      "metadata": {
        "id": "HkQE-eTzJiS-"
      },
      "outputs": [],
      "source": [
        "!pip install microprediction\n"
      ]
    },
    {
      "cell_type": "markdown",
      "source": [
        "### Using pytorch to train LSTM\n",
        "Get some data:"
      ],
      "metadata": {
        "id": "KGzfqv1tL6rx"
      }
    },
    {
      "cell_type": "code",
      "source": [
        "import matplotlib.pyplot as plt\n",
        "from microprediction import MicroReader\n",
        "\n",
        "# Initialize the MicroReader\n",
        "reader = MicroReader()\n",
        "\n",
        "# Fetch a list of stream names\n",
        "stream_names = reader.get_stream_names()\n",
        "\n",
        "# Choose the first stream from the list\n",
        "stream = stream_names[50]\n",
        "\n",
        "# Or hardwire it...\n",
        "stream = 'yarx_vlty_2_mo.json'\n",
        "\n",
        "# Fetch historical data (returns a list of values)\n",
        "history = reader.get_lagged_values(name=stream)\n",
        "\n",
        "# Plot the historical data\n",
        "plt.plot(history[:30])\n",
        "plt.xlabel(\"Time\")\n",
        "plt.ylabel(\"Value\")\n",
        "plt.title(f\"Historical Data for '{stream}'\")\n",
        "plt.show()\n"
      ],
      "metadata": {
        "colab": {
          "base_uri": "https://localhost:8080/",
          "height": 295
        },
        "id": "d4ga6BrOKmhN",
        "outputId": "07add6c7-129f-4862-aa1e-350ae14dc36c"
      },
      "execution_count": 17,
      "outputs": [
        {
          "output_type": "display_data",
          "data": {
            "text/plain": [
              "<Figure size 432x288 with 1 Axes>"
            ],
            "image/png": "[encoded data removed]"
          },
          "metadata": {
            "needs_background": "light"
          }
        }
      ]
    },
    {
      "cell_type": "code",
      "source": [
        "!pip install torch"
      ],
      "metadata": {
        "colab": {
          "base_uri": "https://localhost:8080/"
        },
        "id": "2rm1PWB2LZNB",
        "outputId": "088f7eb9-1ac9-4742-9654-299fcac343e8"
      },
      "execution_count": 7,
      "outputs": [
        {
          "output_type": "stream",
          "name": "stdout",
          "text": [
            "Looking in indexes: https://pypi.org/simple, https://us-python.pkg.dev/colab-wheels/public/simple/\n",
            "Requirement already satisfied: torch in /usr/local/lib/python3.9/dist-packages (1.13.1+cu116)\n",
            "Requirement already satisfied: typing-extensions in /usr/local/lib/python3.9/dist-packages (from torch) (4.5.0)\n"
          ]
        }
      ]
    },
    {
      "cell_type": "code",
      "source": [
        "import numpy as np\n",
        "import torch\n",
        "\n",
        "def create_sequences(data, seq_length):\n",
        "    xs, ys = [], []\n",
        "    for i in range(len(data) - seq_length - 1):\n",
        "        x = data[i:(i + seq_length)]\n",
        "        y = data[i + seq_length]\n",
        "        xs.append(x)\n",
        "        ys.append(y)\n",
        "    return np.array(xs), np.array(ys)\n",
        "\n",
        "# Preprocess the historical data\n",
        "seq_length = 10\n",
        "X, y = create_sequences(history, seq_length)\n",
        "\n",
        "# Split the data into training and testing sets\n",
        "train_size = int(len(y) * 0.8)\n",
        "X_train, X_test = X[:train_size], X[train_size:]\n",
        "y_train, y_test = y[:train_size], y[train_size:]\n",
        "\n",
        "# Convert to PyTorch tensors\n",
        "X_train = torch.from_numpy(X_train).float()\n",
        "y_train = torch.from_numpy(y_train).float()\n",
        "X_test = torch.from_numpy(X_test).float()\n",
        "y_test = torch.from_numpy(y_test).float()\n"
      ],
      "metadata": {
        "id": "QP3vQLjxK2ok"
      },
      "execution_count": 18,
      "outputs": []
    },
    {
      "cell_type": "code",
      "source": [
        "import torch.nn as nn\n",
        "\n",
        "class LSTM(nn.Module):\n",
        "    def __init__(self, input_size, hidden_size, num_layers, output_size):\n",
        "        super(LSTM, self).__init__()\n",
        "        self.hidden_size = hidden_size\n",
        "        self.num_layers = num_layers\n",
        "        self.lstm = nn.LSTM(input_size, hidden_size, num_layers, batch_first=True)\n",
        "        self.fc = nn.Linear(hidden_size, output_size)\n",
        "\n",
        "    def forward(self, x):\n",
        "        h0 = torch.zeros(self.num_layers, x.size(0), self.hidden_size)\n",
        "        c0 = torch.zeros(self.num_layers, x.size(0), self.hidden_size)\n",
        "        \n",
        "        out, _ = self.lstm(x, (h0, c0))\n",
        "        out = self.fc(out[:, -1, :])\n",
        "        return out\n",
        "\n",
        "# Initialize the LSTM model\n",
        "input_size = 1\n",
        "hidden_size = 50\n",
        "num_layers = 1\n",
        "output_size = 1\n",
        "model = LSTM(input_size, hidden_size, num_layers, output_size)\n"
      ],
      "metadata": {
        "id": "r-0OTl44Ltlm"
      },
      "execution_count": 19,
      "outputs": []
    },
    {
      "cell_type": "code",
      "source": [
        "# Set training parameters\n",
        "learning_rate = 0.01\n",
        "num_epochs = 100\n",
        "\n",
        "# Define loss function and optimizer\n",
        "criterion = nn.MSELoss()\n",
        "optimizer = torch.optim.Adam(model.parameters(), lr=learning_rate)\n",
        "\n",
        "# Train the model\n",
        "for epoch in range(num_epochs):\n",
        "    outputs = model(X_train.unsqueeze(-1)).squeeze()  # Add .squeeze() here\n",
        "    optimizer.zero_grad()\n",
        "    loss = criterion(outputs, y_train)\n",
        "    loss.backward()\n",
        "    optimizer.step()\n",
        "\n",
        "    if (epoch + 1) % 10 == 0:\n",
        "        print(f\"Epoch [{epoch+1}/{num_epochs}], Loss: {loss.item():.4f}\")\n"
      ],
      "metadata": {
        "colab": {
          "base_uri": "https://localhost:8080/"
        },
        "id": "wKKAeCnTLvMh",
        "outputId": "4f176c4e-84cf-4cf3-dcea-70528b755066"
      },
      "execution_count": 20,
      "outputs": [
        {
          "output_type": "stream",
          "name": "stdout",
          "text": [
            "Epoch [10/100], Loss: 0.0283\n",
            "Epoch [20/100], Loss: 0.0184\n",
            "Epoch [30/100], Loss: 0.0163\n",
            "Epoch [40/100], Loss: 0.0132\n",
            "Epoch [50/100], Loss: 0.0104\n",
            "Epoch [60/100], Loss: 0.0101\n",
            "Epoch [70/100], Loss: 0.0097\n",
            "Epoch [80/100], Loss: 0.0094\n",
            "Epoch [90/100], Loss: 0.0090\n",
            "Epoch [100/100], Loss: 0.0086\n"
          ]
        }
      ]
    },
    {
      "cell_type": "markdown",
      "source": [
        "# Okay does it work?\n",
        "Check metric on test set\n"
      ],
      "metadata": {
        "id": "fWmuUeMcMcwq"
      }
    },
    {
      "cell_type": "code",
      "source": [
        "with torch.no_grad():\n",
        "    test_outputs = model(X_test.unsqueeze(-1)).squeeze()  # Add .squeeze() here\n",
        "    test_loss = criterion(test_outputs, y_test)\n",
        "    print(f\"Test Loss: {test_loss.item():.4f}\")\n"
      ],
      "metadata": {
        "colab": {
          "base_uri": "https://localhost:8080/"
        },
        "id": "GN4Y9q_lMb0s",
        "outputId": "8c417351-91f5-471a-a987-d821436ed191"
      },
      "execution_count": 21,
      "outputs": [
        {
          "output_type": "stream",
          "name": "stdout",
          "text": [
            "Test Loss: 0.0092\n"
          ]
        }
      ]
    },
    {
      "cell_type": "markdown",
      "source": [
        "Not to bad ... perhaps. "
      ],
      "metadata": {
        "id": "9kCSqodxNTe3"
      }
    },
    {
      "cell_type": "code",
      "source": [
        "import matplotlib.pyplot as plt\n",
        "\n",
        "# Concatenate the training and test predictions\n",
        "with torch.no_grad():\n",
        "    train_outputs = model(X_train.unsqueeze(-1)).squeeze().numpy()\n",
        "    test_outputs = model(X_test.unsqueeze(-1)).squeeze().numpy()\n",
        "all_outputs = np.concatenate((train_outputs, test_outputs))\n",
        "\n",
        "# Calculate the index where the test set starts\n",
        "test_start_index = len(history) - len(y_test) - seq_length\n",
        "\n",
        "# Plot the true values and the predictions\n",
        "plt.plot(history, label=\"True Values\")\n",
        "plt.plot(range(seq_length, seq_length + len(all_outputs)), all_outputs, label=\"Predictions\")\n",
        "plt.axvline(x=test_start_index, color='gray', linestyle='--', label=\"Test set start\")\n",
        "plt.xlabel(\"Time\")\n",
        "plt.ylabel(\"Value\")\n",
        "plt.legend()\n",
        "plt.title(\"LSTM Predictions vs True Values\")\n",
        "plt.show()\n"
      ],
      "metadata": {
        "colab": {
          "base_uri": "https://localhost:8080/",
          "height": 295
        },
        "id": "L-SAAUocMvMI",
        "outputId": "860c6bc5-d914-46f6-c3b2-8fa93bd6a263"
      },
      "execution_count": 22,
      "outputs": [
        {
          "output_type": "display_data",
          "data": {
            "text/plain": [
              "<Figure size 432x288 with 1 Axes>"
            ],
            "image/png": "[encoded data removed]"
          },
          "metadata": {
            "needs_background": "light"
          }
        }
      ]
    },
    {
      "cell_type": "markdown",
      "source": [
        "Let's benchmark it against something simple"
      ],
      "metadata": {
        "id": "FwDv3JAbNZib"
      }
    },
    {
      "cell_type": "code",
      "source": [
        "def lstm_predict(model, input_data):\n",
        "    input_data = torch.tensor(input_data).float().unsqueeze(0).unsqueeze(-1)\n",
        "    with torch.no_grad():\n",
        "        prediction = model(input_data).squeeze().item()\n",
        "    return prediction\n"
      ],
      "metadata": {
        "id": "Z91nCWbjNdxY"
      },
      "execution_count": 23,
      "outputs": []
    },
    {
      "cell_type": "code",
      "source": [
        "!pip install timemachines"
      ],
      "metadata": {
        "id": "KTZLCLvfOSKY"
      },
      "execution_count": null,
      "outputs": []
    },
    {
      "cell_type": "code",
      "source": [
        "from sklearn.metrics import mean_squared_error\n",
        "from timemachines.skaters.simple.thinking import thinking_fast_and_slow as f \n",
        "\n",
        "lstm_predictions = []\n",
        "fast_slow_predictions = []\n",
        "\n",
        "s = {}\n",
        "for i in range(seq_length, len(history)):\n",
        "    input_data = history[i - seq_length:i]\n",
        "    lstm_pred = lstm_predict(model, input_data)\n",
        "    lstm_predictions.append(lstm_pred)\n",
        "    fast_slow_pred, _, s = f(y=history[i - 1],s=s,k=1)\n",
        "    fast_slow_predictions.append(fast_slow_pred)\n",
        "\n",
        "lstm_mse = mean_squared_error(history[seq_length:], lstm_predictions)\n",
        "fast_slow_mse = mean_squared_error(history[seq_length:], fast_slow_predictions)\n",
        "\n",
        "print(\"LSTM Mean Squared Error:\", lstm_mse)\n",
        "print(\"Thinking Fast and Slow Mean Squared Error:\", fast_slow_mse)\n"
      ],
      "metadata": {
        "colab": {
          "base_uri": "https://localhost:8080/"
        },
        "id": "9b9cNXFLOBd0",
        "outputId": "eb3bc81f-f347-41c3-b420-b8c73720d469"
      },
      "execution_count": 25,
      "outputs": [
        {
          "output_type": "stream",
          "name": "stdout",
          "text": [
            "LSTM Mean Squared Error: 0.012208925602694692\n",
            "Thinking Fast and Slow Mean Squared Error: 0.01473796620856306\n"
          ]
        }
      ]
    },
    {
      "cell_type": "markdown",
      "source": [
        "Bravo! We beat it. "
      ],
      "metadata": {
        "id": "Sq8CT9HlOqBa"
      }
    }
  ]
}