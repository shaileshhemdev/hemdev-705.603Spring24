{
 "cells": [
  {
   "cell_type": "markdown",
   "id": "e4b7c2f8",
   "metadata": {},
   "source": [
    "### Forecasting Service\n",
    "\n",
    "This notebook allows running the Forecasting service locally for development and troubleshooting purposes"
   ]
  },
  {
   "cell_type": "code",
   "execution_count": null,
   "id": "cd7ded37",
   "metadata": {},
   "outputs": [],
   "source": [
    "!pip install pandas \n",
    "!pip install numpy \n",
    "!pip install scikit-learn \n",
    "!pip install statsmodels\n",
    "!pip install pmdarima\n",
    "!pip install plotly\n",
    "!pip install holidays==0.24\n",
    "!pip install prophet==1.1.1"
   ]
  },
  {
   "cell_type": "code",
   "execution_count": null,
   "id": "3c0e8d44",
   "metadata": {},
   "outputs": [],
   "source": [
    "# Start the service to test it\n",
    "!python forecast_service.py '/workspace/shared-data/' 'CreditCardFraudFourYears.csv'"
   ]
  },
  {
   "cell_type": "code",
   "execution_count": null,
   "id": "3f25cd1a",
   "metadata": {},
   "outputs": [],
   "source": []
  }
 ],
 "metadata": {
  "kernelspec": {
   "display_name": "Python 3 (ipykernel)",
   "language": "python",
   "name": "python3"
  },
  "language_info": {
   "codemirror_mode": {
    "name": "ipython",
    "version": 3
   },
   "file_extension": ".py",
   "mimetype": "text/x-python",
   "name": "python",
   "nbconvert_exporter": "python",
   "pygments_lexer": "ipython3",
   "version": "3.8.10"
  }
 },
 "nbformat": 4,
 "nbformat_minor": 5
}
