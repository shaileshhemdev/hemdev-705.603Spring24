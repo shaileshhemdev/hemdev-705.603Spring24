{
 "cells": [
  {
   "cell_type": "code",
   "execution_count": 1,
   "id": "b42401c5",
   "metadata": {},
   "outputs": [
    {
     "name": "stdout",
     "output_type": "stream",
     "text": [
      "Requirement already satisfied: pandas in /usr/local/lib/python3.8/dist-packages (1.3.5)\n",
      "Requirement already satisfied: numpy>=1.17.3 in /usr/local/lib/python3.8/dist-packages (from pandas) (1.19.5)\n",
      "Requirement already satisfied: pytz>=2017.3 in /usr/local/lib/python3.8/dist-packages (from pandas) (2021.1)\n",
      "Requirement already satisfied: python-dateutil>=2.7.3 in /usr/local/lib/python3.8/dist-packages (from pandas) (2.8.2)\n",
      "Requirement already satisfied: six>=1.5 in /usr/local/lib/python3.8/dist-packages (from python-dateutil>=2.7.3->pandas) (1.15.0)\n",
      "\u001b[33mWARNING: Running pip as the 'root' user can result in broken permissions and conflicting behaviour with the system package manager. It is recommended to use a virtual environment instead: https://pip.pypa.io/warnings/venv\u001b[0m\n",
      "\u001b[33mWARNING: You are using pip version 21.3.1; however, version 24.0 is available.\n",
      "You should consider upgrading via the '/usr/bin/python -m pip install --upgrade pip' command.\u001b[0m\n",
      "Requirement already satisfied: numpy in /usr/local/lib/python3.8/dist-packages (1.19.5)\n",
      "\u001b[33mWARNING: Running pip as the 'root' user can result in broken permissions and conflicting behaviour with the system package manager. It is recommended to use a virtual environment instead: https://pip.pypa.io/warnings/venv\u001b[0m\n",
      "\u001b[33mWARNING: You are using pip version 21.3.1; however, version 24.0 is available.\n",
      "You should consider upgrading via the '/usr/bin/python -m pip install --upgrade pip' command.\u001b[0m\n",
      "Requirement already satisfied: scikit-learn in /usr/local/lib/python3.8/dist-packages (0.24.2)\n",
      "Requirement already satisfied: threadpoolctl>=2.0.0 in /usr/local/lib/python3.8/dist-packages (from scikit-learn) (3.0.0)\n",
      "Requirement already satisfied: scipy>=0.19.1 in /usr/local/lib/python3.8/dist-packages (from scikit-learn) (1.5.4)\n",
      "Requirement already satisfied: numpy>=1.13.3 in /usr/local/lib/python3.8/dist-packages (from scikit-learn) (1.19.5)\n",
      "Requirement already satisfied: joblib>=0.11 in /usr/local/lib/python3.8/dist-packages (from scikit-learn) (1.1.0)\n",
      "\u001b[33mWARNING: Running pip as the 'root' user can result in broken permissions and conflicting behaviour with the system package manager. It is recommended to use a virtual environment instead: https://pip.pypa.io/warnings/venv\u001b[0m\n",
      "\u001b[33mWARNING: You are using pip version 21.3.1; however, version 24.0 is available.\n",
      "You should consider upgrading via the '/usr/bin/python -m pip install --upgrade pip' command.\u001b[0m\n",
      "Requirement already satisfied: flask in /usr/local/lib/python3.8/dist-packages (3.0.3)\n",
      "Requirement already satisfied: Werkzeug>=3.0.0 in /usr/local/lib/python3.8/dist-packages (from flask) (3.0.2)\n",
      "Requirement already satisfied: click>=8.1.3 in /usr/local/lib/python3.8/dist-packages (from flask) (8.1.7)\n",
      "Requirement already satisfied: Jinja2>=3.1.2 in /usr/local/lib/python3.8/dist-packages (from flask) (3.1.3)\n",
      "Requirement already satisfied: blinker>=1.6.2 in /usr/local/lib/python3.8/dist-packages (from flask) (1.8.0)\n",
      "Requirement already satisfied: itsdangerous>=2.1.2 in /usr/local/lib/python3.8/dist-packages (from flask) (2.2.0)\n",
      "Requirement already satisfied: importlib-metadata>=3.6.0 in /usr/local/lib/python3.8/dist-packages (from flask) (7.1.0)\n",
      "Requirement already satisfied: zipp>=0.5 in /usr/local/lib/python3.8/dist-packages (from importlib-metadata>=3.6.0->flask) (3.18.1)\n",
      "Requirement already satisfied: MarkupSafe>=2.0 in /usr/local/lib/python3.8/dist-packages (from Jinja2>=3.1.2->flask) (2.1.5)\n",
      "\u001b[33mWARNING: Running pip as the 'root' user can result in broken permissions and conflicting behaviour with the system package manager. It is recommended to use a virtual environment instead: https://pip.pypa.io/warnings/venv\u001b[0m\n",
      "\u001b[33mWARNING: You are using pip version 21.3.1; however, version 24.0 is available.\n",
      "You should consider upgrading via the '/usr/bin/python -m pip install --upgrade pip' command.\u001b[0m\n"
     ]
    }
   ],
   "source": [
    "!pip install pandas \n",
    "!pip install numpy \n",
    "!pip install scikit-learn \n",
    "!pip install flask"
   ]
  },
  {
   "cell_type": "code",
   "execution_count": null,
   "id": "6f361bd2",
   "metadata": {},
   "outputs": [
    {
     "name": "stdout",
     "output_type": "stream",
     "text": [
      "Successfully obtained Q Table\n",
      "Successfully obtained Campaign Data\n",
      "Here we will build the state table\n",
      "(17640,)\n",
      "Starting Server...\n",
      " * Serving Flask app 'email_campaign_service'\n",
      " * Debug mode: off\n",
      "\u001b[31m\u001b[1mWARNING: This is a development server. Do not use it in a production deployment. Use a production WSGI server instead.\u001b[0m\n",
      " * Running on all addresses (0.0.0.0)\n",
      " * Running on http://127.0.0.1:8786\n",
      " * Running on http://172.17.0.3:8786\n",
      "\u001b[33mPress CTRL+C to quit\u001b[0m\n",
      "[7.14285714 7.14100075 7.13923528 7.14050626 7.13923235 7.14209758\n",
      " 7.1422495 ]\n",
      "[7.14285714 7.14100075 7.13923528 7.14050626 7.13923235 7.1422495 ]\n",
      "192.168.65.1 - - [28/Apr/2024 05:06:29] \"POST /get-next-action HTTP/1.1\" 200 -\n",
      "[6.61478811 6.18415909 7.14285714 6.75017442 6.3758987  4.62674286\n",
      " 6.52926785]\n",
      "[6.61478811 6.18415909 7.14285714 6.3758987  4.62674286 6.52926785]\n",
      "192.168.65.1 - - [28/Apr/2024 05:06:38] \"POST /get-next-action HTTP/1.1\" 200 -\n",
      "[7.14285714 7.14281538 7.14272971 7.14271539 7.14284001 7.14264306\n",
      " 7.14237103]\n",
      "[7.14281538 7.14272971 7.14271539 7.14284001 7.14264306 7.14237103]\n",
      "192.168.65.1 - - [28/Apr/2024 05:06:43] \"POST /get-next-action HTTP/1.1\" 200 -\n",
      "[7.14285714 7.14280173 7.14278346 7.14280495 7.14280494 7.14284004\n",
      " 7.14272966]\n",
      "[7.14285714 7.14280173 7.14278346 7.14280495 7.14284004 7.14272966]\n",
      "192.168.65.1 - - [28/Apr/2024 05:06:48] \"POST /get-next-action HTTP/1.1\" 200 -\n",
      "[7.14285714 7.14285714 7.14285714 7.14285714 7.14285714 1.64285714\n",
      " 7.14285714]\n",
      "[7.14285714 7.14285714 7.14285714 7.14285714 1.64285714 7.14285714]\n",
      "192.168.65.1 - - [28/Apr/2024 05:07:01] \"POST /get-next-action HTTP/1.1\" 200 -\n",
      "[7.14285714 7.14282291 7.14190769 7.14281538 7.14284838 7.14285339\n",
      " 7.14285014]\n",
      "[7.14282291 7.14190769 7.14281538 7.14284838 7.14285339 7.14285014]\n",
      "192.168.65.1 - - [28/Apr/2024 05:07:07] \"POST /get-next-action HTTP/1.1\" 200 -\n",
      "[7.14285714 7.14285713 7.14285714 7.14285714 1.64285714 7.14285714\n",
      " 7.14285714]\n",
      "[7.14285714 7.14285713 7.14285714 7.14285714 1.64285714 7.14285714]\n",
      "192.168.65.1 - - [28/Apr/2024 05:07:12] \"POST /get-next-action HTTP/1.1\" 200 -\n",
      "[7.14285714 1.42857143 4.21714286 4.20310446 1.42857143 1.42857143\n",
      " 2.57142857]\n",
      "[7.14285714 4.21714286 4.20310446 1.42857143 1.42857143 2.57142857]\n",
      "192.168.65.1 - - [28/Apr/2024 05:07:17] \"POST /get-next-action HTTP/1.1\" 200 -\n",
      "[7.14285714 7.14285714 7.14285714 7.14285714 7.14285714 1.64285714\n",
      " 7.14285714]\n",
      "[7.14285714 7.14285714 7.14285714 7.14285714 1.64285714 7.14285714]\n",
      "192.168.65.1 - - [28/Apr/2024 05:07:22] \"POST /get-next-action HTTP/1.1\" 200 -\n"
     ]
    }
   ],
   "source": [
    "# Start the service to test it\n",
    "!python email_campaign_service.py '/workspace/shared-data/' 'email_campaign_data.csv'"
   ]
  },
  {
   "cell_type": "code",
   "execution_count": null,
   "id": "02d378f2",
   "metadata": {},
   "outputs": [],
   "source": [
    "np.array([1.69930000e+04 7.14285714e+00 7.14285702e+00 7.14285714e+00 7.14285702e+00 7.14285713e+00 \n",
    "          7.14285597e+00 7.14285675e+00])"
   ]
  },
  {
   "cell_type": "code",
   "execution_count": null,
   "id": "e2debc46",
   "metadata": {},
   "outputs": [],
   "source": []
  }
 ],
 "metadata": {
  "kernelspec": {
   "display_name": "Python 3 (ipykernel)",
   "language": "python",
   "name": "python3"
  },
  "language_info": {
   "codemirror_mode": {
    "name": "ipython",
    "version": 3
   },
   "file_extension": ".py",
   "mimetype": "text/x-python",
   "name": "python",
   "nbconvert_exporter": "python",
   "pygments_lexer": "ipython3",
   "version": "3.8.10"
  }
 },
 "nbformat": 4,
 "nbformat_minor": 5
}
