{
 "cells": [
  {
   "cell_type": "code",
   "execution_count": null,
   "id": "a3f3cfe2",
   "metadata": {},
   "outputs": [],
   "source": [
    "!pip install pandas \n",
    "!pip install numpy \n",
    "!pip install scikit-learn \n",
    "!pip install flask"
   ]
  },
  {
   "cell_type": "code",
   "execution_count": null,
   "id": "bfc83d00",
   "metadata": {},
   "outputs": [],
   "source": [
    "# Start the service to test it\n",
    "!python email_campaign_service.py '/workspace/shared-data/' 'email_campaign_data.csv'"
   ]
  },
  {
   "cell_type": "code",
   "execution_count": null,
   "id": "f6e3b6e6",
   "metadata": {},
   "outputs": [],
   "source": []
  }
 ],
 "metadata": {
  "kernelspec": {
   "display_name": "Python 3 (ipykernel)",
   "language": "python",
   "name": "python3"
  },
  "language_info": {
   "codemirror_mode": {
    "name": "ipython",
    "version": 3
   },
   "file_extension": ".py",
   "mimetype": "text/x-python",
   "name": "python",
   "nbconvert_exporter": "python",
   "pygments_lexer": "ipython3",
   "version": "3.8.10"
  }
 },
 "nbformat": 4,
 "nbformat_minor": 5
}
