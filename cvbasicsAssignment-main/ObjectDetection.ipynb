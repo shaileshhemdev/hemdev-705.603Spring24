{
 "cells": [
  {
   "cell_type": "markdown",
   "id": "4bd01520",
   "metadata": {},
   "source": [
    "# Object Detection - Graphical Degrading and Object Detection"
   ]
  },
  {
   "cell_type": "markdown",
   "id": "c4ef9de5",
   "metadata": {},
   "source": [
    "## Steps for Part 1 - Graphical Degrading\n",
    "1. Download zip code from assignment repository\n",
    "1. Download the yolov3.weights from the readme in the github repository (This file is too big for github versioning)\n",
    "1. Edit/Create an git \"exclude\" file in the main portfolio directory \".git/info\".  Add \"yolov3.weights\" on a line by itself.  This avoids a git push failure due to the size of the file.\n",
    "1. Fill in the missing code in this notebook  (You will need the working code examples to do the next step)\n",
    "1. Create a python class that allows the following\n",
    "   - Reads in the image\n",
    "   - Create a loop that alters individual changes of the items below to determine names of identified objects and their confidence (down to when the object detetion is lost).  Remember to reset the image through each pass as they are not iterative.\n",
    "     - size\n",
    "     - rotation\n",
    "     - noise (of your choice)\n",
    "   - Graph the results\n",
    "   \n",
    "## Steps for Part 2 - Object Detection\n",
    "1.  Generate a web interface python script that ingests a POST command of a picture Use [postman](https://www.postman.com/) to generate the post with picture of your choice.\n",
    "1.  Returns the items detected and the assocated confidence\n",
    "1.  Add to your python class above to offer this capability\n",
    "1.  Test web interface locally\n",
    "1.  Create a Dockerfile and build the image\n",
    "1.  Test the Dockerfile locally\n",
    "1.  Push notebook, python script, readme, etc to your github portfolio (since you are in the right location locally you just need to do a push at the main directory of the portfolio (after git add * and git commit -m \" comment)\n",
    "1.  Push locally built and test docker image to your docker hub portfolio.  Manually add to docker readme.\n",
    "1.  Submit the two links (github Assignment5 directory and docker hub) via text submission to Canvas."
   ]
  },
  {
   "cell_type": "markdown",
   "id": "9480be35",
   "metadata": {},
   "source": [
    "## Initial Start\n",
    "* Load Libraries (Need to install wandb and cv2 - see below)\n",
    "* plot_cv_image( img ) allows output of image within a notebook"
   ]
  },
  {
   "cell_type": "code",
   "execution_count": 4,
   "id": "dee71f07",
   "metadata": {},
   "outputs": [
    {
     "name": "stdout",
     "output_type": "stream",
     "text": [
      "Requirement already satisfied: numpy in /usr/local/lib/python3.8/dist-packages (1.24.4)\n",
      "\u001b[33mWARNING: Running pip as the 'root' user can result in broken permissions and conflicting behaviour with the system package manager. It is recommended to use a virtual environment instead: https://pip.pypa.io/warnings/venv\u001b[0m\n",
      "\u001b[33mWARNING: You are using pip version 21.3.1; however, version 24.0 is available.\n",
      "You should consider upgrading via the '/usr/bin/python -m pip install --upgrade pip' command.\u001b[0m\n",
      "Requirement already satisfied: scikit-learn in /usr/local/lib/python3.8/dist-packages (0.24.2)\n",
      "Requirement already satisfied: threadpoolctl>=2.0.0 in /usr/local/lib/python3.8/dist-packages (from scikit-learn) (3.0.0)\n",
      "Requirement already satisfied: scipy>=0.19.1 in /usr/local/lib/python3.8/dist-packages (from scikit-learn) (1.10.1)\n",
      "Requirement already satisfied: numpy>=1.13.3 in /usr/local/lib/python3.8/dist-packages (from scikit-learn) (1.24.4)\n",
      "Requirement already satisfied: joblib>=0.11 in /usr/local/lib/python3.8/dist-packages (from scikit-learn) (1.1.0)\n",
      "\u001b[33mWARNING: Running pip as the 'root' user can result in broken permissions and conflicting behaviour with the system package manager. It is recommended to use a virtual environment instead: https://pip.pypa.io/warnings/venv\u001b[0m\n",
      "\u001b[33mWARNING: You are using pip version 21.3.1; however, version 24.0 is available.\n",
      "You should consider upgrading via the '/usr/bin/python -m pip install --upgrade pip' command.\u001b[0m\n",
      "Requirement already satisfied: matplotlib in /usr/local/lib/python3.8/dist-packages (3.5.1)\n",
      "Requirement already satisfied: fonttools>=4.22.0 in /usr/local/lib/python3.8/dist-packages (from matplotlib) (4.28.5)\n",
      "Requirement already satisfied: cycler>=0.10 in /usr/local/lib/python3.8/dist-packages (from matplotlib) (0.11.0)\n",
      "Requirement already satisfied: kiwisolver>=1.0.1 in /usr/local/lib/python3.8/dist-packages (from matplotlib) (1.3.2)\n",
      "Requirement already satisfied: packaging>=20.0 in /usr/local/lib/python3.8/dist-packages (from matplotlib) (23.2)\n",
      "Requirement already satisfied: pyparsing>=2.2.1 in /usr/local/lib/python3.8/dist-packages (from matplotlib) (2.4.7)\n",
      "Requirement already satisfied: numpy>=1.17 in /usr/local/lib/python3.8/dist-packages (from matplotlib) (1.24.4)\n",
      "Requirement already satisfied: pillow>=6.2.0 in /usr/local/lib/python3.8/dist-packages (from matplotlib) (10.2.0)\n",
      "Requirement already satisfied: python-dateutil>=2.7 in /usr/local/lib/python3.8/dist-packages (from matplotlib) (2.8.2)\n",
      "Requirement already satisfied: six>=1.5 in /usr/local/lib/python3.8/dist-packages (from python-dateutil>=2.7->matplotlib) (1.15.0)\n",
      "\u001b[33mWARNING: Running pip as the 'root' user can result in broken permissions and conflicting behaviour with the system package manager. It is recommended to use a virtual environment instead: https://pip.pypa.io/warnings/venv\u001b[0m\n",
      "\u001b[33mWARNING: You are using pip version 21.3.1; however, version 24.0 is available.\n",
      "You should consider upgrading via the '/usr/bin/python -m pip install --upgrade pip' command.\u001b[0m\n",
      "Requirement already satisfied: opencv-python-headless in /usr/local/lib/python3.8/dist-packages (4.5.5.62)\n",
      "Requirement already satisfied: numpy>=1.17.3 in /usr/local/lib/python3.8/dist-packages (from opencv-python-headless) (1.24.4)\n",
      "\u001b[33mWARNING: Running pip as the 'root' user can result in broken permissions and conflicting behaviour with the system package manager. It is recommended to use a virtual environment instead: https://pip.pypa.io/warnings/venv\u001b[0m\n",
      "\u001b[33mWARNING: You are using pip version 21.3.1; however, version 24.0 is available.\n",
      "You should consider upgrading via the '/usr/bin/python -m pip install --upgrade pip' command.\u001b[0m\n",
      "Requirement already satisfied: wandb in /usr/local/lib/python3.8/dist-packages (0.16.3)\n",
      "Requirement already satisfied: appdirs>=1.4.3 in /usr/local/lib/python3.8/dist-packages (from wandb) (1.4.4)\n",
      "Requirement already satisfied: setproctitle in /usr/local/lib/python3.8/dist-packages (from wandb) (1.3.3)\n",
      "Requirement already satisfied: typing-extensions in /usr/local/lib/python3.8/dist-packages (from wandb) (4.9.0)\n",
      "Requirement already satisfied: protobuf!=4.21.0,<5,>=3.12.0 in /usr/local/lib/python3.8/dist-packages (from wandb) (3.17.3)\n",
      "Requirement already satisfied: docker-pycreds>=0.4.0 in /usr/local/lib/python3.8/dist-packages (from wandb) (0.4.0)\n",
      "Requirement already satisfied: PyYAML in /usr/local/lib/python3.8/dist-packages (from wandb) (5.4.1)\n",
      "Requirement already satisfied: requests<3,>=2.0.0 in /usr/local/lib/python3.8/dist-packages (from wandb) (2.26.0)\n",
      "Requirement already satisfied: sentry-sdk>=1.0.0 in /usr/local/lib/python3.8/dist-packages (from wandb) (1.40.6)\n",
      "Requirement already satisfied: GitPython!=3.1.29,>=1.0.0 in /usr/local/lib/python3.8/dist-packages (from wandb) (3.1.42)\n",
      "Requirement already satisfied: Click!=8.0.0,>=7.1 in /usr/local/lib/python3.8/dist-packages (from wandb) (8.1.7)\n",
      "Requirement already satisfied: psutil>=5.0.0 in /usr/local/lib/python3.8/dist-packages (from wandb) (5.7.0)\n",
      "Requirement already satisfied: setuptools in /usr/local/lib/python3.8/dist-packages (from wandb) (57.4.0)\n",
      "Requirement already satisfied: six>=1.4.0 in /usr/local/lib/python3.8/dist-packages (from docker-pycreds>=0.4.0->wandb) (1.15.0)\n",
      "Requirement already satisfied: gitdb<5,>=4.0.1 in /usr/local/lib/python3.8/dist-packages (from GitPython!=3.1.29,>=1.0.0->wandb) (4.0.11)\n",
      "Requirement already satisfied: urllib3<1.27,>=1.21.1 in /usr/local/lib/python3.8/dist-packages (from requests<3,>=2.0.0->wandb) (1.26.18)\n",
      "Requirement already satisfied: charset-normalizer~=2.0.0 in /usr/local/lib/python3.8/dist-packages (from requests<3,>=2.0.0->wandb) (2.0.3)\n",
      "Requirement already satisfied: idna<4,>=2.5 in /usr/local/lib/python3.8/dist-packages (from requests<3,>=2.0.0->wandb) (3.2)\n",
      "Requirement already satisfied: certifi>=2017.4.17 in /usr/local/lib/python3.8/dist-packages (from requests<3,>=2.0.0->wandb) (2021.5.30)\n",
      "Requirement already satisfied: smmap<6,>=3.0.1 in /usr/local/lib/python3.8/dist-packages (from gitdb<5,>=4.0.1->GitPython!=3.1.29,>=1.0.0->wandb) (5.0.1)\n",
      "\u001b[33mWARNING: Running pip as the 'root' user can result in broken permissions and conflicting behaviour with the system package manager. It is recommended to use a virtual environment instead: https://pip.pypa.io/warnings/venv\u001b[0m\n",
      "\u001b[33mWARNING: You are using pip version 21.3.1; however, version 24.0 is available.\n",
      "You should consider upgrading via the '/usr/bin/python -m pip install --upgrade pip' command.\u001b[0m\n",
      "Requirement already satisfied: scikit-image in /usr/local/lib/python3.8/dist-packages (0.21.0)\n",
      "Requirement already satisfied: packaging>=21 in /usr/local/lib/python3.8/dist-packages (from scikit-image) (23.2)\n",
      "Requirement already satisfied: numpy>=1.21.1 in /usr/local/lib/python3.8/dist-packages (from scikit-image) (1.24.4)\n",
      "Requirement already satisfied: networkx>=2.8 in /usr/local/lib/python3.8/dist-packages (from scikit-image) (3.1)\n",
      "Requirement already satisfied: tifffile>=2022.8.12 in /usr/local/lib/python3.8/dist-packages (from scikit-image) (2023.7.10)\n",
      "Requirement already satisfied: imageio>=2.27 in /usr/local/lib/python3.8/dist-packages (from scikit-image) (2.34.0)\n",
      "Requirement already satisfied: lazy_loader>=0.2 in /usr/local/lib/python3.8/dist-packages (from scikit-image) (0.3)\n",
      "Requirement already satisfied: scipy>=1.8 in /usr/local/lib/python3.8/dist-packages (from scikit-image) (1.10.1)\n",
      "Requirement already satisfied: pillow>=9.0.1 in /usr/local/lib/python3.8/dist-packages (from scikit-image) (10.2.0)\n",
      "Requirement already satisfied: PyWavelets>=1.1.1 in /usr/local/lib/python3.8/dist-packages (from scikit-image) (1.4.1)\n",
      "\u001b[33mWARNING: Running pip as the 'root' user can result in broken permissions and conflicting behaviour with the system package manager. It is recommended to use a virtual environment instead: https://pip.pypa.io/warnings/venv\u001b[0m\n",
      "\u001b[33mWARNING: You are using pip version 21.3.1; however, version 24.0 is available.\n",
      "You should consider upgrading via the '/usr/bin/python -m pip install --upgrade pip' command.\u001b[0m\n"
     ]
    }
   ],
   "source": [
    "!pip install numpy \n",
    "!pip install scikit-learn \n",
    "!pip install matplotlib\n",
    "!pip install opencv-python-headless\n",
    "!pip install wandb\n",
    "!pip install scikit-image"
   ]
  },
  {
   "cell_type": "code",
   "execution_count": 2,
   "id": "c5bbeadf",
   "metadata": {},
   "outputs": [],
   "source": [
    "import cv2 as cv\n",
    "# !pip install opencv-python-headless\n",
    "import numpy as np\n",
    "import matplotlib.pyplot as plt \n",
    "# !pip install wandb\n",
    "from wandb import Classes\n",
    "\n",
    "\n",
    "def plot_cv_img(input_image):     \n",
    "    \"\"\"     \n",
    "    Converts an image from BGR to RGB and plots     \n",
    "    \"\"\"   \n",
    "    # change color channels order for matplotlib     \n",
    "    plt.imshow(cv.cvtColor(input_image, cv.COLOR_BGR2RGB))          \n",
    "\n",
    "    # For easier view, turn off axis around image     \n",
    "    plt.axis('off') \n",
    "    \n",
    "    # Must save prior to show - for show clears the image!\n",
    "    plt.savefig(\"DetectionOutput.jpg\")\n",
    "    plt.show()"
   ]
  },
  {
   "cell_type": "markdown",
   "id": "e4f384c5",
   "metadata": {},
   "source": [
    "## Load Yolo Model"
   ]
  },
  {
   "cell_type": "code",
   "execution_count": null,
   "id": "4ec61115",
   "metadata": {},
   "outputs": [],
   "source": [
    "# load yolo\n",
    "net = cv.dnn.readNet(\"yolov3.weights\",  #note weights to too big for github must save within readme\n",
    "                     \"yolov3.cfg\")"
   ]
  },
  {
   "cell_type": "markdown",
   "id": "82e88587",
   "metadata": {},
   "source": [
    "## Identify the number of layers in the model and their names"
   ]
  },
  {
   "cell_type": "code",
   "execution_count": null,
   "id": "ebbce3d1",
   "metadata": {},
   "outputs": [],
   "source": [
    "ln = net.getLayerNames()\n",
    "print(len(ln), ln)"
   ]
  },
  {
   "cell_type": "markdown",
   "id": "c819fe6c",
   "metadata": {},
   "source": [
    "## Read in and print out the categories for Yolo"
   ]
  },
  {
   "cell_type": "code",
   "execution_count": null,
   "id": "2bd50061",
   "metadata": {},
   "outputs": [],
   "source": [
    "classes = []\n",
    "with open(\"coco.names\", 'r') as f:\n",
    "    classes = [line.strip() for line in f.readlines()]"
   ]
  },
  {
   "cell_type": "markdown",
   "id": "2ac04ebf",
   "metadata": {},
   "source": [
    "## Read in an image and output its dimensions"
   ]
  },
  {
   "cell_type": "code",
   "execution_count": null,
   "id": "ad7bd177",
   "metadata": {},
   "outputs": [],
   "source": [
    "img = cv.imread('pictures/bermuda.jpg')\n",
    "print(\"Original Shape: \", img.shape)"
   ]
  },
  {
   "cell_type": "markdown",
   "id": "89984566",
   "metadata": {},
   "source": [
    "## Resize the image and output its dimensions"
   ]
  },
  {
   "cell_type": "code",
   "execution_count": null,
   "id": "c56c6ae3",
   "metadata": {},
   "outputs": [],
   "source": [
    "img = cv.resize(img, (416, 416))  # Add code to resize\n",
    "height, width, channel = img.shape\n",
    "print(\"Resized Shape: \", img.shape)"
   ]
  },
  {
   "cell_type": "markdown",
   "id": "b5a707c1",
   "metadata": {},
   "source": [
    "## Rotate the image using cv"
   ]
  },
  {
   "cell_type": "code",
   "execution_count": null,
   "id": "5f823d37",
   "metadata": {},
   "outputs": [],
   "source": [
    "# Rotate\n",
    "rotated_img = cv.rotate(img, cv.ROTATE_90_CLOCKWISE)  # add code to rotate\n",
    "plot_cv_img(rotated_img)"
   ]
  },
  {
   "cell_type": "markdown",
   "id": "7c6719bf",
   "metadata": {},
   "source": [
    "## Rotate the image using scipy (might have to install if necessary)"
   ]
  },
  {
   "cell_type": "code",
   "execution_count": null,
   "id": "15c70083",
   "metadata": {},
   "outputs": [],
   "source": [
    "# Rotate\n",
    "from scipy import ndimage\n",
    "rotated_img = ndimage.rotate(img, 90, reshape=False) # add code to rotate\n",
    "plot_cv_img(rotated_img)"
   ]
  },
  {
   "cell_type": "markdown",
   "id": "77079a8c",
   "metadata": {},
   "source": [
    "## Add Salt and Pepper Noise"
   ]
  },
  {
   "cell_type": "code",
   "execution_count": null,
   "id": "e0fa0555",
   "metadata": {},
   "outputs": [],
   "source": [
    "#add salt and pepper noise\n",
    "from skimage.util import random_noise\n",
    "# Add salt-and-pepper noise to the image.\n",
    "\n",
    "noise_img = random_noise(img, mode='s&p')  # add code to add salt and pepper noise\n",
    " \n",
    "# The above function returns a floating-point image\n",
    "# on the range [0, 1], thus we changed it to 'uint8'\n",
    "# and from [0,255]\n",
    "\n",
    "noise_img = np.array(255*noise_img, dtype = 'uint8')\n",
    "\n",
    "plot_cv_img(noise_img )"
   ]
  },
  {
   "cell_type": "markdown",
   "id": "358fa3c6",
   "metadata": {},
   "source": [
    "## Add Gaussian noise"
   ]
  },
  {
   "cell_type": "code",
   "execution_count": null,
   "id": "270a9b3b",
   "metadata": {},
   "outputs": [],
   "source": [
    "import numpy as np\n",
    "\n",
    "mean = 0\n",
    "var = 0.1\n",
    "sigma = var**0.5\n",
    "gauss = np.random.normal(mean, sigma, img.shape) # add code  to add gaussian noise\n",
    "gauss = gauss.reshape(img.shape[0],img.shape[1],img.shape[2]).astype('uint8')\n",
    "\n",
    "# Add the Gaussian noise to the image\n",
    "img_gauss = img + gauss  # Add the noise to the image\n",
    "# Display the image\n",
    "plot_cv_img(img_gauss)"
   ]
  },
  {
   "cell_type": "markdown",
   "id": "8dfb9502",
   "metadata": {},
   "source": [
    "## Add Speckle Noise with color"
   ]
  },
  {
   "cell_type": "code",
   "execution_count": null,
   "id": "9fa03198",
   "metadata": {},
   "outputs": [],
   "source": [
    "#Speckle Noise\n",
    "import numpy as np\n",
    " \n",
    "img = cv.imread('pictures/bermuda.jpg')\n",
    " \n",
    "gauss = np.random.normal(0, 50, img.shape) # add code to add speckle noise\n",
    "gauss = gauss.reshape(img.shape[0],img.shape[1],img.shape[2]).astype('uint8')\n",
    "speckle_img = img + gauss\n",
    "plot_cv_img(speckle_img )"
   ]
  },
  {
   "cell_type": "markdown",
   "id": "4eb035af",
   "metadata": {},
   "source": [
    "## Set up layers and colors"
   ]
  },
  {
   "cell_type": "code",
   "execution_count": null,
   "id": "7de85f1e",
   "metadata": {},
   "outputs": [],
   "source": [
    "layer_name = net.getLayerNames()\n",
    "output_layer = [layer_name[i - 1] for i in net.getUnconnectedOutLayers()]\n",
    "colors = np.random.uniform(0, 255, size=(len(classes), 3))"
   ]
  },
  {
   "cell_type": "markdown",
   "id": "84f075c6",
   "metadata": {},
   "source": [
    "## Fire up Model"
   ]
  },
  {
   "cell_type": "code",
   "execution_count": null,
   "id": "6a882ef3",
   "metadata": {},
   "outputs": [],
   "source": [
    "#img = cv.resize(img, (416, 416))  # Add code to resize\n",
    "\n",
    "#note - 0.00392 = 1/250   416 is a standard square for yolo\n",
    "blob = cv.dnn.blobFromImage(img, 1/255 , (416, 416), True, False)  # Fill in other fields to create image compatible with cv\n",
    "\n",
    "#detect objects\n",
    "net.setInput(blob)\n",
    "outs = net.forward(output_layer)"
   ]
  },
  {
   "cell_type": "markdown",
   "id": "ef19c872",
   "metadata": {},
   "source": [
    "## Set up image on screen  (all done for you)\n",
    "* Note how to extract the identified objects and their assocated confidence.  You need that for part 2 of this assignment"
   ]
  },
  {
   "cell_type": "code",
   "execution_count": null,
   "id": "f196afcb",
   "metadata": {},
   "outputs": [],
   "source": [
    "# Showing Information on the screen\n",
    "class_ids = []\n",
    "confidences = []\n",
    "boxes = []\n",
    "for out in outs:\n",
    "    for detection in out:\n",
    "        scores = detection[5:]\n",
    "        class_id = np.argmax(scores)\n",
    "        confidence = scores[class_id]\n",
    "        if confidence > 0.5:\n",
    "            # Object detection\n",
    "            center_x = int(detection[0] * width)\n",
    "            center_y = int(detection[1] * height)\n",
    "            w = int(detection[2] * width)\n",
    "            h = int(detection[3] * height)\n",
    "            cv.circle(img, (center_x, center_y), 10, (0, 255, 0), 2 )\n",
    "            \n",
    "            # Reactangle Cordinate\n",
    "            x = int(center_x - w/2)\n",
    "            y = int(center_y - h/2)\n",
    "            boxes.append([x, y, w, h])\n",
    "            confidences.append(float(confidence))\n",
    "            class_ids.append(class_id)\n",
    "           \n",
    "print(\"Type: \", type(class_ids))\n",
    "\n",
    "indexes = cv.dnn.NMSBoxes(boxes, confidences, 0.5, 0.4)\n",
    "print(indexes)\n",
    "\n",
    "font = cv.FONT_HERSHEY_PLAIN\n",
    "for i in range(len(boxes)):\n",
    "    if i in indexes:\n",
    "        x, y, w, h = boxes[i]\n",
    "        label = str(classes[class_ids[i]])\n",
    "        print(f'Object: {label} with confidence of {confidences[i]:.2f}')\n",
    "        color = colors[i]\n",
    "        cv.rectangle(img, (x, y), (x + w, y + h), color, 2)\n",
    "        cv.putText(img, label, (x, y + 30), font, 3, color, 3)\n",
    "\n",
    "plot_cv_img(img)"
   ]
  },
  {
   "cell_type": "markdown",
   "id": "a6c9626b",
   "metadata": {},
   "source": [
    "Now that we have the base code above, we will make use of our class namely <b>ObjectDetection</b> to use a number of image variations built from the above types of distortions. We will use the following distortions\n",
    "\n",
    "<ul>\n",
    "    <li>Resize</li>\n",
    "    <li>Random Noise</li>\n",
    "    <li>Low Gaussian Noise</li>\n",
    "    <li>Excessive Gaussian Noise</li>\n",
    "    <li>Rotation Counter Clockwise 90 degrees</li>\n",
    "    <li>Rotation Clockwise 90 degrees</li>\n",
    "</ul>"
   ]
  },
  {
   "cell_type": "code",
   "execution_count": null,
   "id": "c0bfff5e",
   "metadata": {},
   "outputs": [],
   "source": [
    "from object_detection import ObjectDetection\n",
    "\n",
    "objectdetection = ObjectDetection()"
   ]
  },
  {
   "cell_type": "code",
   "execution_count": null,
   "id": "976f249e",
   "metadata": {},
   "outputs": [],
   "source": [
    "# First take the original image\n",
    "img1 = 'pictures/bermuda.jpg'\n",
    "class_dict1 = objectdetection.detect(img1)\n",
    "cnt1 = (len(class_dict1))\n",
    "mean1 = sum(n for _, n in class_dict1) / cnt1\n",
    "\n",
    "# Scipy Random Noise\n",
    "img2 = 'pictures/bermuda_random.jpg'\n",
    "cv.imwrite(img2, noise_img)\n",
    "class_dict2 = objectdetection.detect(img2)\n",
    "cnt2 = (len(class_dict2))\n",
    "mean2 = sum(n for _, n in class_dict2) / cnt2\n",
    "\n",
    "# Gaussian Noise\n",
    "img3 = 'pictures/bermuda_speckle.jpg'\n",
    "img = cv.imread('pictures/bermuda.jpg')\n",
    "gauss = np.random.normal(0, 50, img.shape) # add code to add speckle noise\n",
    "gauss = gauss.reshape(img.shape[0],img.shape[1],img.shape[2]).astype('uint8')\n",
    "speckle_img = img + gauss\n",
    "cv.imwrite(img3, speckle_img)\n",
    "class_dict3 = objectdetection.detect(img3)\n",
    "cnt3 = (len(class_dict3))\n",
    "mean3 =  0 if cnt3 ==0 else sum(n for _, n in class_dict3) / cnt3\n",
    "\n",
    "# Gaussian Noise - Add more distortion\n",
    "img4 = 'pictures/bermuda_speckle1.jpg'\n",
    "img = cv.imread('pictures/bermuda.jpg')\n",
    "gauss = np.random.normal(0, 250, img.shape) # add code to add speckle noise\n",
    "gauss = gauss.reshape(img.shape[0],img.shape[1],img.shape[2]).astype('uint8')\n",
    "speckle_img = img + gauss\n",
    "cv.imwrite(img4, speckle_img)\n",
    "class_dict4 = objectdetection.detect(img4)\n",
    "cnt4 = (len(class_dict4))\n",
    "mean4 = 0 if cnt4 ==0 else sum(n for _, n in class_dict4) / cnt4\n",
    "\n",
    "# Scipy Rotation\n",
    "img5 = 'pictures/bermuda_rotated270.jpg'\n",
    "img = cv.imread('pictures/bermuda.jpg')\n",
    "rotated_img = ndimage.rotate(img, 90, reshape=False) \n",
    "cv.imwrite(img5, rotated_img)\n",
    "class_dict5 = objectdetection.detect(img5)\n",
    "cnt5 = (len(class_dict5))\n",
    "mean5 = 0 if cnt5 ==0 else sum(n for _, n in class_dict5) / cnt5\n",
    "\n",
    "# Rotated Image\n",
    "img6 = 'pictures/bermuda_rotated90.jpg'\n",
    "img = cv.imread('pictures/bermuda.jpg')\n",
    "rotated_img = cv.rotate(img, cv.ROTATE_90_CLOCKWISE)\n",
    "cv.imwrite(img6, rotated_img)\n",
    "class_dict6 = objectdetection.detect(img6)\n",
    "cnt6 = (len(class_dict6))\n",
    "mean6 = 0 if cnt6 ==0 else sum(n for _, n in class_dict6) / cnt6"
   ]
  },
  {
   "cell_type": "code",
   "execution_count": null,
   "id": "f9f09f40",
   "metadata": {},
   "outputs": [],
   "source": [
    "import matplotlib.pyplot as plt\n",
    "\n",
    "# Let's get these into a list\n",
    "cnt = [cnt1, cnt2, cnt3, cnt4, cnt5, cnt6]\n",
    "mean = [mean1, mean2, mean3, mean4, mean5, mean6]\n",
    "plt.figure(figsize=(10,6))\n",
    "\n",
    "# Set text\n",
    "plt.text(cnt1-0.1,mean1-5,'Resize')\n",
    "plt.text(cnt2-0.2,mean2-10,'Random Noise')\n",
    "plt.text(cnt3 - 0.2,mean3-10,'Gaussian Noise')\n",
    "plt.text(cnt5 + 0.2 ,mean5,'Rotations & Excessive Noise')\n",
    "plt.plot(cnt, mean, '-gD', markevery=[0,1,2,3,4,5], label='Object Detection')\n",
    "plt.legend()\n",
    "\n",
    "plt.show()"
   ]
  },
  {
   "cell_type": "markdown",
   "id": "5570dfca",
   "metadata": {},
   "source": [
    "## Summary\n",
    "\n",
    "Above we have plotted the number of objects detected with the average confidence and we can make the following conclusions \n",
    "\n",
    "<ul>\n",
    "    <li>Excessive Gaussian Noise and / or Rotations degrade the image to a point where objects cannot be detected</li>\n",
    "    <li>The impact of above can be on the number of objects and / or the confidence itself as we can see from the Samples 2 and 3 above where the former has 1 object detected with high confidence but the latter has 2 objects with lower confidence</li> \n",
    "</ul>\n",
    "\n",
    "Note techniques in the model and/or image that improve the object detection."
   ]
  },
  {
   "cell_type": "code",
   "execution_count": null,
   "id": "ead0e2b0",
   "metadata": {},
   "outputs": [],
   "source": [
    "## Start the service to test it\n",
    "!python object_detection_service.py '/workspace/shared-data/'"
   ]
  }
 ],
 "metadata": {
  "kernelspec": {
   "display_name": "Python 3 (ipykernel)",
   "language": "python",
   "name": "python3"
  },
  "language_info": {
   "codemirror_mode": {
    "name": "ipython",
    "version": 3
   },
   "file_extension": ".py",
   "mimetype": "text/x-python",
   "name": "python",
   "nbconvert_exporter": "python",
   "pygments_lexer": "ipython3",
   "version": "3.8.10"
  }
 },
 "nbformat": 4,
 "nbformat_minor": 5
}
