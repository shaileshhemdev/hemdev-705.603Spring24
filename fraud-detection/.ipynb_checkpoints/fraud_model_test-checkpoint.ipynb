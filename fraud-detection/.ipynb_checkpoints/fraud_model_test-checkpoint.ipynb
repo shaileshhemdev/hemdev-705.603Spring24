{
 "cells": [
  {
   "cell_type": "code",
   "execution_count": null,
   "id": "f07d0733",
   "metadata": {},
   "outputs": [],
   "source": [
    "from data_pipeline import ETL_Pipeline \n",
    "\n",
    "dp = ETL_Pipeline('/workspace/shared-data/')\n",
    "dp.process('transactions-1.csv')"
   ]
  },
  {
   "cell_type": "code",
   "execution_count": null,
   "id": "1bd220bf",
   "metadata": {},
   "outputs": [],
   "source": [
    "import pandas as pd\n",
    "import numpy as np\n",
    "import sklearn\n",
    "import seaborn as sns\n",
    "\n",
    "from IPython.display import display, HTML\n",
    "\n",
    "# Display Properties\n",
    "from IPython.display import display, HTML\n",
    "pd.set_option('display.max_rows', None)\n",
    "pd.set_option('display.max_columns', None)\n",
    "pd.set_option('display.width', 1000)\n",
    "pd.set_option('display.colheader_justify', 'center')\n",
    "pd.set_option('display.precision', 2)\n",
    "pd.set_option('display.float_format', lambda x: '%.3f' % x)\n",
    "\n",
    "\n",
    "sns.set(style=\"ticks\", color_codes=True)"
   ]
  },
  {
   "cell_type": "code",
   "execution_count": null,
   "id": "8a19b3e6",
   "metadata": {},
   "outputs": [],
   "source": [
    "df = pd.read_csv('/workspace/shared-data/transformed_data.csv')\n",
    "df.head()"
   ]
  },
  {
   "cell_type": "code",
   "execution_count": null,
   "id": "5103c320",
   "metadata": {},
   "outputs": [],
   "source": [
    "from dataset import Fraud_Dataset\n",
    "\n",
    "fd = Fraud_Dataset(df,'is_fraud')\n",
    "\n",
    "X_train, y_train = fd.get_training_dataset(1)\n",
    "print(X_train)\n",
    "X_train, y_train = fd.get_training_dataset(2)\n",
    "print(X_train)\n",
    "X_train, y_train = fd.get_training_dataset(3)\n",
    "print(X_train)"
   ]
  },
  {
   "cell_type": "code",
   "execution_count": null,
   "id": "2b9f95b9",
   "metadata": {},
   "outputs": [],
   "source": []
  }
 ],
 "metadata": {
  "kernelspec": {
   "display_name": "Python 3 (ipykernel)",
   "language": "python",
   "name": "python3"
  },
  "language_info": {
   "codemirror_mode": {
    "name": "ipython",
    "version": 3
   },
   "file_extension": ".py",
   "mimetype": "text/x-python",
   "name": "python",
   "nbconvert_exporter": "python",
   "pygments_lexer": "ipython3",
   "version": "3.8.10"
  }
 },
 "nbformat": 4,
 "nbformat_minor": 5
}
