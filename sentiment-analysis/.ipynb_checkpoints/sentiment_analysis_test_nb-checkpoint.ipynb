{
 "cells": [
  {
   "cell_type": "code",
   "execution_count": null,
   "id": "ce36a809",
   "metadata": {},
   "outputs": [],
   "source": [
    "!pip install --upgrade pip\n",
    "!pip install nltk\n",
    "!pip install contractions\n",
    "!pip install inflect\n",
    "!pip install numpy \n",
    "!pip install scikit-learn \n",
    "!pip install gensim\n",
    "!pip uninstall -y tensorflow\n",
    "!pip install torch\n",
    "!pip install transformers\n",
    "!pip install flask"
   ]
  },
  {
   "cell_type": "code",
   "execution_count": null,
   "id": "37fcfcac",
   "metadata": {},
   "outputs": [],
   "source": [
    "base_dir = \"/Users/shaileshhemdev/ai/ai-enabledsystems/workspace/\"\n",
    "source_file = \"amazon_movie_reviews.csv\"\n",
    "\n",
    "# Start the service to test it\n",
    "!python sentiment_analysis_service.py {base_dir} {source_file}"
   ]
  },
  {
   "cell_type": "code",
   "execution_count": null,
   "id": "1b3f2772",
   "metadata": {},
   "outputs": [],
   "source": []
  }
 ],
 "metadata": {
  "kernelspec": {
   "display_name": "Python 3 (ipykernel)",
   "language": "python",
   "name": "python3"
  },
  "language_info": {
   "codemirror_mode": {
    "name": "ipython",
    "version": 3
   },
   "file_extension": ".py",
   "mimetype": "text/x-python",
   "name": "python",
   "nbconvert_exporter": "python",
   "pygments_lexer": "ipython3",
   "version": "3.9.13"
  }
 },
 "nbformat": 4,
 "nbformat_minor": 5
}
