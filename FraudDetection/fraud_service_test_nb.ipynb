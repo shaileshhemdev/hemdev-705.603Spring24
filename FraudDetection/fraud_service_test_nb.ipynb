{
 "cells": [
  {
   "cell_type": "code",
   "execution_count": null,
   "id": "ce36a809",
   "metadata": {},
   "outputs": [],
   "source": [
    "!pip install pandas \n",
    "!pip install numpy \n",
    "!pip install scikit-learn \n",
    "!pip install basemap\n",
    "!pip install flask"
   ]
  },
  {
   "cell_type": "code",
   "execution_count": null,
   "id": "37fcfcac",
   "metadata": {},
   "outputs": [],
   "source": [
    "# Start the service to test it\n",
    "!python fraud_service.py '/workspace/shared-data/' 'transactions-1.csv'"
   ]
  },
  {
   "cell_type": "code",
   "execution_count": null,
   "id": "1b3f2772",
   "metadata": {},
   "outputs": [],
   "source": []
  }
 ],
 "metadata": {
  "kernelspec": {
   "display_name": "Python 3 (ipykernel)",
   "language": "python",
   "name": "python3"
  },
  "language_info": {
   "codemirror_mode": {
    "name": "ipython",
    "version": 3
   },
   "file_extension": ".py",
   "mimetype": "text/x-python",
   "name": "python",
   "nbconvert_exporter": "python",
   "pygments_lexer": "ipython3",
   "version": "3.8.10"
  }
 },
 "nbformat": 4,
 "nbformat_minor": 5
}
