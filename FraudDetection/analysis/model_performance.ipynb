{
 "cells": [
  {
   "cell_type": "code",
   "execution_count": null,
   "id": "e7e16cad",
   "metadata": {},
   "outputs": [],
   "source": [
    "# Set up the notebook to import modules from relative paths\n",
    "import os, sys\n",
    "\n",
    "#'/home/user/example/parent/child'\n",
    "current_path = os.path.abspath('.')\n",
    "\n",
    "#'/home/user/example/parent'\n",
    "parent_path = os.path.dirname(current_path)\n",
    "\n",
    "sys.path.append(parent_path)"
   ]
  },
  {
   "cell_type": "code",
   "execution_count": null,
   "id": "dcef94df",
   "metadata": {},
   "outputs": [],
   "source": [
    "from data_pipeline import ETL_Pipeline \n",
    "\n",
    "dp = ETL_Pipeline('/workspace/shared-data/')\n",
    "dp.process('transactions-1.csv')"
   ]
  },
  {
   "cell_type": "code",
   "execution_count": null,
   "id": "a314c71f",
   "metadata": {},
   "outputs": [],
   "source": [
    "import pandas as pd\n",
    "import numpy as np\n",
    "import sklearn\n",
    "import seaborn as sns\n",
    "\n",
    "from IPython.display import display, HTML\n",
    "\n",
    "# Display Properties\n",
    "from IPython.display import display, HTML\n",
    "pd.set_option('display.max_rows', None)\n",
    "pd.set_option('display.max_columns', None)\n",
    "pd.set_option('display.width', 1000)\n",
    "pd.set_option('display.colheader_justify', 'center')\n",
    "pd.set_option('display.precision', 2)\n",
    "pd.set_option('display.float_format', lambda x: '%.3f' % x)\n",
    "\n",
    "\n",
    "sns.set(style=\"ticks\", color_codes=True)"
   ]
  },
  {
   "cell_type": "code",
   "execution_count": null,
   "id": "c6183b03",
   "metadata": {},
   "outputs": [],
   "source": [
    "df = pd.read_csv('/workspace/shared-data/transformed_data.csv')\n",
    "df.head()"
   ]
  },
  {
   "cell_type": "code",
   "execution_count": null,
   "id": "f73843dc",
   "metadata": {},
   "outputs": [],
   "source": [
    "from dataset import Fraud_Dataset\n",
    "\n",
    "# Create a fraud dataset with 5 folds \n",
    "fd = Fraud_Dataset(df,'is_fraud')"
   ]
  },
  {
   "cell_type": "code",
   "execution_count": null,
   "id": "ebd6cd07",
   "metadata": {},
   "outputs": [],
   "source": [
    "from model import Fraud_Detector_Model\n",
    "from metrics import Metrics\n",
    "\n",
    "metrics = Metrics()\n",
    "\n",
    "# Get the training, validation and test datasets\n",
    "X_train, y_train = fd.get_training_dataset(0)\n",
    "X_test, y_test = fd.get_testing_dataset(0)\n",
    "X_val, y_val = fd.get_validation_dataset(0)\n",
    "\n",
    "# List of classifiers\n",
    "classifiers = ['RF', 'GB', 'AB']\n",
    "\n",
    "# Initialize Metric Arrays \n",
    "accs, acc_bals, specificitys, sensitivitys, precs, recalls, f1s, roc_aucs, avg_precs = [], [], [], [], [], [], [], [], []\n",
    "\n",
    "for classifier in classifiers:\n",
    "    # Train and test the model\n",
    "    model = Fraud_Detector_Model(classifier)\n",
    "    \n",
    "    if (classifier == 'AB'):\n",
    "        model.train(X_train, y_train)\n",
    "    else:\n",
    "        model.train(X_train, y_train, X_val, y_val)\n",
    "    \n",
    "    # Obtain the metrics \n",
    "    acc, acc_bal, specificity, sensitivity, prec, recall, f1, roc_auc, avg_prec = model.test(X_test, y_test)\n",
    "    \n",
    "    # Collect the metrics \n",
    "    accs += [acc]\n",
    "    acc_bals += [acc_bal]\n",
    "    specificitys += [specificity]\n",
    "    sensitivitys += [sensitivity]\n",
    "    precs += [prec]\n",
    "    recalls += [recall]\n",
    "    f1s += [f1]\n",
    "    roc_aucs += [roc_auc]\n",
    "    avg_precs += [avg_prec]\n",
    "\n",
    "# Generate the Report\n",
    "metrics.generate_report(accs, acc_bals, specificitys, sensitivitys, precs, recalls, f1s, roc_aucs, avg_precs, classifiers, '/workspace/shared-data/hemdev-705.603Spring24/FraudDetection/results/model-results.txt')\n"
   ]
  },
  {
   "cell_type": "code",
   "execution_count": null,
   "id": "018aeb36",
   "metadata": {},
   "outputs": [],
   "source": [
    "f = open('/workspace/shared-data/hemdev-705.603Spring24/FraudDetection/results/model-results.txt', \"w\")\n",
    "\n",
    "i = 0\n",
    "for cls in classifiers:\n",
    "    acc         = accs[i]\n",
    "    acc_bal     = acc_bals[i]\n",
    "    specificity = specificitys[i]\n",
    "    sensitivity = sensitivitys[i]\n",
    "    prec        = precs[i]\n",
    "    recall      = recalls[i]\n",
    "    f1          = f1s[i]\n",
    "    roc_auc     = roc_aucs[i]\n",
    "    avg_prec    = avg_precs[i]\n",
    "\n",
    "    i = i + 1\n",
    "\n",
    "    f.write(f\"Model Results for {cls}:\\n\")\n",
    "    f.write(f\"\\t\\tAccuracy = {acc:.2%}\")\n",
    "    f.write(f\"\\t\\tBalanced Accuracy = {acc_bal:.2%}\")\n",
    "    f.write(f\"\\t\\tSpecificity = {specificity:.2%}\")\n",
    "    f.write(f\"\\t\\tSensitivity = {sensitivity:.2%}\")\n",
    "    f.write(f\"\\t\\tPrecision = {prec:.2%}\")\n",
    "    f.write(f\"\\t\\tRecall = {recall:.2%}\")\n",
    "    f.write(f\"\\t\\tF1 Score = {f1:.2%}\")\n",
    "    f.write(f\"\\t\\tROC AUC Score = {roc_auc:.2%}\")\n",
    "    f.write(f\"\\t\\tAverage Precision Score = {avg_prec:.2%}\")\n",
    "\n",
    "f.close() "
   ]
  },
  {
   "cell_type": "code",
   "execution_count": null,
   "id": "95a7a43e",
   "metadata": {},
   "outputs": [],
   "source": []
  }
 ],
 "metadata": {
  "kernelspec": {
   "display_name": "Python 3 (ipykernel)",
   "language": "python",
   "name": "python3"
  },
  "language_info": {
   "codemirror_mode": {
    "name": "ipython",
    "version": 3
   },
   "file_extension": ".py",
   "mimetype": "text/x-python",
   "name": "python",
   "nbconvert_exporter": "python",
   "pygments_lexer": "ipython3",
   "version": "3.8.10"
  }
 },
 "nbformat": 4,
 "nbformat_minor": 5
}
