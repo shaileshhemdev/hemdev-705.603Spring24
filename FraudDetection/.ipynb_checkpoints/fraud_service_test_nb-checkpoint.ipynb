{
 "cells": [
  {
   "cell_type": "code",
   "execution_count": null,
   "id": "f9892224",
   "metadata": {},
   "outputs": [],
   "source": [
    "!pip install pandas \n",
    "!pip install numpy \n",
    "!pip install scikit-learn \n",
    "!pip install basemap\n",
    "!pip install flask"
   ]
  },
  {
   "cell_type": "code",
   "execution_count": null,
   "id": "20105228",
   "metadata": {},
   "outputs": [
    {
     "name": "stdout",
     "output_type": "stream",
     "text": [
      "Start an ETL_Pipeline to load training data with shared folder = /workspace/shared-data/ and training data file = transactions-1.csv\n",
      "Successfully processed and created feature data and initialized metrics\n",
      "Successfully processed and created feature data and initialized metrics\n",
      "Successfully created Fraud Dataset\n",
      "Successfully created Fraud Data Model\n",
      "Successfully trained Fraud Model\n",
      "Starting Server...\n",
      " * Serving Flask app 'fraud_service'\n",
      " * Debug mode: off\n",
      "\u001b[31m\u001b[1mWARNING: This is a development server. Do not use it in a production deployment. Use a production WSGI server instead.\u001b[0m\n",
      " * Running on all addresses (0.0.0.0)\n",
      " * Running on http://127.0.0.1:8786\n",
      " * Running on http://172.17.0.3:8786\n",
      "\u001b[33mPress CTRL+C to quit\u001b[0m\n",
      "192.168.65.1 - - [24/Feb/2024 21:37:33] \"POST /detect-fraud HTTP/1.1\" 200 -\n",
      "192.168.65.1 - - [24/Feb/2024 21:37:48] \"GET /stats HTTP/1.1\" 200 -\n"
     ]
    }
   ],
   "source": [
    "# Start the service to test it\n",
    "!python fraud_service.py '/workspace/shared-data/' 'transactions-1.csv'"
   ]
  },
  {
   "cell_type": "code",
   "execution_count": null,
   "id": "3358a3b9",
   "metadata": {},
   "outputs": [],
   "source": []
  }
 ],
 "metadata": {
  "kernelspec": {
   "display_name": "Python 3 (ipykernel)",
   "language": "python",
   "name": "python3"
  },
  "language_info": {
   "codemirror_mode": {
    "name": "ipython",
    "version": 3
   },
   "file_extension": ".py",
   "mimetype": "text/x-python",
   "name": "python",
   "nbconvert_exporter": "python",
   "pygments_lexer": "ipython3",
   "version": "3.8.10"
  }
 },
 "nbformat": 4,
 "nbformat_minor": 5
}
