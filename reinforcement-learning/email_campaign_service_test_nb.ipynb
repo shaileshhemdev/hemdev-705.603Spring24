{
 "cells": [
  {
   "cell_type": "code",
   "execution_count": 1,
   "id": "a57f7e7b",
   "metadata": {
    "collapsed": true,
    "jupyter": {
     "outputs_hidden": true
    }
   },
   "outputs": [
    {
     "name": "stdout",
     "output_type": "stream",
     "text": [
      "Requirement already satisfied: pandas in /usr/local/lib/python3.8/dist-packages (1.3.5)\n",
      "Requirement already satisfied: pytz>=2017.3 in /usr/local/lib/python3.8/dist-packages (from pandas) (2021.1)\n",
      "Requirement already satisfied: numpy>=1.17.3 in /usr/local/lib/python3.8/dist-packages (from pandas) (1.19.5)\n",
      "Requirement already satisfied: python-dateutil>=2.7.3 in /usr/local/lib/python3.8/dist-packages (from pandas) (2.8.2)\n",
      "Requirement already satisfied: six>=1.5 in /usr/local/lib/python3.8/dist-packages (from python-dateutil>=2.7.3->pandas) (1.15.0)\n",
      "\u001b[33mWARNING: Running pip as the 'root' user can result in broken permissions and conflicting behaviour with the system package manager. It is recommended to use a virtual environment instead: https://pip.pypa.io/warnings/venv\u001b[0m\n",
      "\u001b[33mWARNING: You are using pip version 21.3.1; however, version 24.0 is available.\n",
      "You should consider upgrading via the '/usr/bin/python -m pip install --upgrade pip' command.\u001b[0m\n",
      "Requirement already satisfied: numpy in /usr/local/lib/python3.8/dist-packages (1.19.5)\n",
      "\u001b[33mWARNING: Running pip as the 'root' user can result in broken permissions and conflicting behaviour with the system package manager. It is recommended to use a virtual environment instead: https://pip.pypa.io/warnings/venv\u001b[0m\n",
      "\u001b[33mWARNING: You are using pip version 21.3.1; however, version 24.0 is available.\n",
      "You should consider upgrading via the '/usr/bin/python -m pip install --upgrade pip' command.\u001b[0m\n",
      "Requirement already satisfied: scikit-learn in /usr/local/lib/python3.8/dist-packages (0.24.2)\n",
      "Requirement already satisfied: numpy>=1.13.3 in /usr/local/lib/python3.8/dist-packages (from scikit-learn) (1.19.5)\n",
      "Requirement already satisfied: threadpoolctl>=2.0.0 in /usr/local/lib/python3.8/dist-packages (from scikit-learn) (3.0.0)\n",
      "Requirement already satisfied: joblib>=0.11 in /usr/local/lib/python3.8/dist-packages (from scikit-learn) (1.1.0)\n",
      "Requirement already satisfied: scipy>=0.19.1 in /usr/local/lib/python3.8/dist-packages (from scikit-learn) (1.5.4)\n",
      "\u001b[33mWARNING: Running pip as the 'root' user can result in broken permissions and conflicting behaviour with the system package manager. It is recommended to use a virtual environment instead: https://pip.pypa.io/warnings/venv\u001b[0m\n",
      "\u001b[33mWARNING: You are using pip version 21.3.1; however, version 24.0 is available.\n",
      "You should consider upgrading via the '/usr/bin/python -m pip install --upgrade pip' command.\u001b[0m\n",
      "Requirement already satisfied: flask in /usr/local/lib/python3.8/dist-packages (3.0.3)\n",
      "Requirement already satisfied: itsdangerous>=2.1.2 in /usr/local/lib/python3.8/dist-packages (from flask) (2.2.0)\n",
      "Requirement already satisfied: blinker>=1.6.2 in /usr/local/lib/python3.8/dist-packages (from flask) (1.8.0)\n",
      "Requirement already satisfied: Werkzeug>=3.0.0 in /usr/local/lib/python3.8/dist-packages (from flask) (3.0.2)\n",
      "Requirement already satisfied: importlib-metadata>=3.6.0 in /usr/local/lib/python3.8/dist-packages (from flask) (7.1.0)\n",
      "Requirement already satisfied: click>=8.1.3 in /usr/local/lib/python3.8/dist-packages (from flask) (8.1.7)\n",
      "Requirement already satisfied: Jinja2>=3.1.2 in /usr/local/lib/python3.8/dist-packages (from flask) (3.1.3)\n",
      "Requirement already satisfied: zipp>=0.5 in /usr/local/lib/python3.8/dist-packages (from importlib-metadata>=3.6.0->flask) (3.18.1)\n",
      "Requirement already satisfied: MarkupSafe>=2.0 in /usr/local/lib/python3.8/dist-packages (from Jinja2>=3.1.2->flask) (2.1.5)\n",
      "\u001b[33mWARNING: Running pip as the 'root' user can result in broken permissions and conflicting behaviour with the system package manager. It is recommended to use a virtual environment instead: https://pip.pypa.io/warnings/venv\u001b[0m\n",
      "\u001b[33mWARNING: You are using pip version 21.3.1; however, version 24.0 is available.\n",
      "You should consider upgrading via the '/usr/bin/python -m pip install --upgrade pip' command.\u001b[0m\n"
     ]
    }
   ],
   "source": [
    "!pip install pandas \n",
    "!pip install numpy \n",
    "!pip install scikit-learn \n",
    "!pip install flask"
   ]
  },
  {
   "cell_type": "code",
   "execution_count": null,
   "id": "06d3768b",
   "metadata": {},
   "outputs": [
    {
     "name": "stdout",
     "output_type": "stream",
     "text": [
      "Start an ETL_Pipeline to load training data with shared folder = /workspace/shared-data/email-campaign/ and sent emails file = sent_emails.csv, resp emails file = responded.csv, customers file = userbase.csv\n",
      "Successfully obtained Q Table\n",
      "Successfully obtained Campaign Data\n",
      "Here we will build the state table\n",
      "Successfully initialized EmailCampaignField and obtained states = 17640\n",
      "Successfully initialized Email_Campaign_Model\n",
      "Starting Server...\n",
      " * Serving Flask app 'email_campaign_service'\n",
      " * Debug mode: off\n",
      "\u001b[31m\u001b[1mWARNING: This is a development server. Do not use it in a production deployment. Use a production WSGI server instead.\u001b[0m\n",
      " * Running on all addresses (0.0.0.0)\n",
      " * Running on http://127.0.0.1:8786\n",
      " * Running on http://172.17.0.3:8786\n",
      "\u001b[33mPress CTRL+C to quit\u001b[0m\n",
      "1\n",
      "{0: 'aol.com', 1: 'comcast.net', 2: 'gmail.com', 3: 'hotmail.com', 4: 'msn.com', 5: 'yahoo.com'}\n",
      "(1, 0, 1, 0, 0, 0, 0)\n",
      "(1, 1, 1, 0, 0, 0, 0)\n",
      "192.168.65.1 - - [05/May/2024 18:53:29] \"GET /campaign-audience?subjectId=1 HTTP/1.1\" 200 -\n",
      "2\n",
      "{0: 'aol.com', 1: 'comcast.net', 2: 'gmail.com', 3: 'hotmail.com', 4: 'msn.com', 5: 'yahoo.com'}\n",
      "(2, 0, 0, 0, 1, 0, 0)\n",
      "(2, 0, 0, 0, 2, 0, 0)\n",
      "192.168.65.1 - - [05/May/2024 18:55:38] \"GET /campaign-audience?subjectId=2 HTTP/1.1\" 200 -\n",
      "3\n",
      "/workspace/shared-data/hemdev-705.603Spring24/reinforcement-learning/metrics.py:138: RuntimeWarning: invalid value encountered in long_scalars\n",
      "  conversions += [responses_received/emails_sent]\n",
      "{0: 'aol.com', 1: 'comcast.net', 2: 'gmail.com', 3: 'hotmail.com', 4: 'msn.com', 5: 'yahoo.com'}\n",
      "(3, 0, 0, 0, 1, 0, 0)\n",
      "(3, 0, 1, 0, 1, 0, 0)\n",
      "192.168.65.1 - - [05/May/2024 18:56:01] \"GET /campaign-audience?subjectId=3 HTTP/1.1\" 200 -\n"
     ]
    }
   ],
   "source": [
    "# Start the service to test it\n",
    "!python email_campaign_service.py '/workspace/shared-data/email-campaign/' 'sent_emails.csv' 'responded.csv' 'userbase.csv'"
   ]
  },
  {
   "cell_type": "code",
   "execution_count": null,
   "id": "cbf0763f",
   "metadata": {},
   "outputs": [],
   "source": []
  }
 ],
 "metadata": {
  "kernelspec": {
   "display_name": "Python 3 (ipykernel)",
   "language": "python",
   "name": "python3"
  },
  "language_info": {
   "codemirror_mode": {
    "name": "ipython",
    "version": 3
   },
   "file_extension": ".py",
   "mimetype": "text/x-python",
   "name": "python",
   "nbconvert_exporter": "python",
   "pygments_lexer": "ipython3",
   "version": "3.8.10"
  }
 },
 "nbformat": 4,
 "nbformat_minor": 5
}
