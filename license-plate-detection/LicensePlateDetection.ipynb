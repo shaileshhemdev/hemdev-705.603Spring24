{
 "cells": [
  {
   "cell_type": "markdown",
   "id": "618960b2",
   "metadata": {},
   "source": [
    "# Data Engineering Pipeline for License Plate Recognition"
   ]
  },
  {
   "cell_type": "markdown",
   "id": "a88b024f",
   "metadata": {},
   "source": [
    "Here we will explore how to capture images from video streams and then use it to run different object detection models to obtain the objects with varying confidences\n",
    "\n",
    "<b>Pre-requisites</b>: The notebook assumes that you have ffmpeg installed on the container or host where this notebook is running. If this is running on a container then make sure the container's docker file has the following \n",
    "\n",
    "apt-get update -qq && apt-get install ffmpeg -y"
   ]
  },
  {
   "cell_type": "code",
   "execution_count": 1,
   "id": "634bc03f",
   "metadata": {},
   "outputs": [
    {
     "name": "stdout",
     "output_type": "stream",
     "text": [
      "Requirement already satisfied: numpy in /usr/local/lib/python3.8/dist-packages (1.19.5)\n",
      "\u001b[33mWARNING: Running pip as the 'root' user can result in broken permissions and conflicting behaviour with the system package manager. It is recommended to use a virtual environment instead: https://pip.pypa.io/warnings/venv\u001b[0m\n",
      "\u001b[33mWARNING: You are using pip version 21.3.1; however, version 24.0 is available.\n",
      "You should consider upgrading via the '/usr/bin/python -m pip install --upgrade pip' command.\u001b[0m\n",
      "Requirement already satisfied: matplotlib in /usr/local/lib/python3.8/dist-packages (3.5.1)\n",
      "Requirement already satisfied: cycler>=0.10 in /usr/local/lib/python3.8/dist-packages (from matplotlib) (0.11.0)\n",
      "Requirement already satisfied: kiwisolver>=1.0.1 in /usr/local/lib/python3.8/dist-packages (from matplotlib) (1.3.2)\n",
      "Requirement already satisfied: fonttools>=4.22.0 in /usr/local/lib/python3.8/dist-packages (from matplotlib) (4.28.5)\n",
      "Requirement already satisfied: packaging>=20.0 in /usr/local/lib/python3.8/dist-packages (from matplotlib) (24.0)\n",
      "Requirement already satisfied: pillow>=6.2.0 in /usr/local/lib/python3.8/dist-packages (from matplotlib) (9.0.0)\n",
      "Requirement already satisfied: numpy>=1.17 in /usr/local/lib/python3.8/dist-packages (from matplotlib) (1.19.5)\n",
      "Requirement already satisfied: python-dateutil>=2.7 in /usr/local/lib/python3.8/dist-packages (from matplotlib) (2.8.2)\n",
      "Requirement already satisfied: pyparsing>=2.2.1 in /usr/local/lib/python3.8/dist-packages (from matplotlib) (2.4.7)\n",
      "Requirement already satisfied: six>=1.5 in /usr/local/lib/python3.8/dist-packages (from python-dateutil>=2.7->matplotlib) (1.15.0)\n",
      "\u001b[33mWARNING: Running pip as the 'root' user can result in broken permissions and conflicting behaviour with the system package manager. It is recommended to use a virtual environment instead: https://pip.pypa.io/warnings/venv\u001b[0m\n",
      "\u001b[33mWARNING: You are using pip version 21.3.1; however, version 24.0 is available.\n",
      "You should consider upgrading via the '/usr/bin/python -m pip install --upgrade pip' command.\u001b[0m\n",
      "Found existing installation: opencv-python-headless 4.9.0.80\n",
      "Uninstalling opencv-python-headless-4.9.0.80:\n",
      "  Successfully uninstalled opencv-python-headless-4.9.0.80\n",
      "\u001b[33mWARNING: Running pip as the 'root' user can result in broken permissions and conflicting behaviour with the system package manager. It is recommended to use a virtual environment instead: https://pip.pypa.io/warnings/venv\u001b[0m\n",
      "Found existing installation: opencv-python 4.9.0.80\n",
      "Uninstalling opencv-python-4.9.0.80:\n",
      "  Successfully uninstalled opencv-python-4.9.0.80\n",
      "\u001b[33mWARNING: Running pip as the 'root' user can result in broken permissions and conflicting behaviour with the system package manager. It is recommended to use a virtual environment instead: https://pip.pypa.io/warnings/venv\u001b[0m\n",
      "\u001b[33mWARNING: Skipping cv2 as it is not installed.\u001b[0m\n",
      "\u001b[33mWARNING: Running pip as the 'root' user can result in broken permissions and conflicting behaviour with the system package manager. It is recommended to use a virtual environment instead: https://pip.pypa.io/warnings/venv\u001b[0m\n",
      "Found existing installation: pylabel 0.1.55\n",
      "Uninstalling pylabel-0.1.55:\n",
      "  Successfully uninstalled pylabel-0.1.55\n",
      "\u001b[33mWARNING: Running pip as the 'root' user can result in broken permissions and conflicting behaviour with the system package manager. It is recommended to use a virtual environment instead: https://pip.pypa.io/warnings/venv\u001b[0m\n",
      "Collecting pylabel\n",
      "  Using cached pylabel-0.1.55-py3-none-any.whl (27 kB)\n",
      "Requirement already satisfied: bbox-visualizer in /usr/local/lib/python3.8/dist-packages (from pylabel) (0.1.0)\n",
      "Requirement already satisfied: jupyter-bbox-widget in /usr/local/lib/python3.8/dist-packages (from pylabel) (0.5.0)\n",
      "Collecting opencv-python\n",
      "  Using cached opencv_python-4.9.0.80-cp37-abi3-manylinux_2_17_x86_64.manylinux2014_x86_64.whl (62.2 MB)\n",
      "Requirement already satisfied: pyyaml in /usr/local/lib/python3.8/dist-packages (from pylabel) (5.4.1)\n",
      "Requirement already satisfied: tqdm in /usr/local/lib/python3.8/dist-packages (from pylabel) (4.61.2)\n",
      "Requirement already satisfied: pandas in /usr/local/lib/python3.8/dist-packages (from pylabel) (1.3.5)\n",
      "Requirement already satisfied: scikit-learn in /usr/local/lib/python3.8/dist-packages (from pylabel) (0.24.2)\n",
      "Requirement already satisfied: matplotlib in /usr/local/lib/python3.8/dist-packages (from pylabel) (3.5.1)\n",
      "Requirement already satisfied: ipywidgets>=7.0.0 in /usr/local/lib/python3.8/dist-packages (from jupyter-bbox-widget->pylabel) (8.1.2)\n",
      "Requirement already satisfied: numpy>=1.17 in /usr/local/lib/python3.8/dist-packages (from matplotlib->pylabel) (1.19.5)\n",
      "Requirement already satisfied: kiwisolver>=1.0.1 in /usr/local/lib/python3.8/dist-packages (from matplotlib->pylabel) (1.3.2)\n",
      "Requirement already satisfied: cycler>=0.10 in /usr/local/lib/python3.8/dist-packages (from matplotlib->pylabel) (0.11.0)\n",
      "Requirement already satisfied: pillow>=6.2.0 in /usr/local/lib/python3.8/dist-packages (from matplotlib->pylabel) (9.0.0)\n",
      "Requirement already satisfied: packaging>=20.0 in /usr/local/lib/python3.8/dist-packages (from matplotlib->pylabel) (24.0)\n",
      "Requirement already satisfied: pyparsing>=2.2.1 in /usr/local/lib/python3.8/dist-packages (from matplotlib->pylabel) (2.4.7)\n",
      "Requirement already satisfied: fonttools>=4.22.0 in /usr/local/lib/python3.8/dist-packages (from matplotlib->pylabel) (4.28.5)\n",
      "Requirement already satisfied: python-dateutil>=2.7 in /usr/local/lib/python3.8/dist-packages (from matplotlib->pylabel) (2.8.2)\n",
      "Requirement already satisfied: pytz>=2017.3 in /usr/local/lib/python3.8/dist-packages (from pandas->pylabel) (2021.1)\n",
      "Requirement already satisfied: scipy>=0.19.1 in /usr/local/lib/python3.8/dist-packages (from scikit-learn->pylabel) (1.5.4)\n",
      "Requirement already satisfied: threadpoolctl>=2.0.0 in /usr/local/lib/python3.8/dist-packages (from scikit-learn->pylabel) (3.0.0)\n",
      "Requirement already satisfied: joblib>=0.11 in /usr/local/lib/python3.8/dist-packages (from scikit-learn->pylabel) (1.1.0)\n",
      "Requirement already satisfied: comm>=0.1.3 in /usr/local/lib/python3.8/dist-packages (from ipywidgets>=7.0.0->jupyter-bbox-widget->pylabel) (0.2.2)\n",
      "Requirement already satisfied: ipython>=6.1.0 in /usr/local/lib/python3.8/dist-packages (from ipywidgets>=7.0.0->jupyter-bbox-widget->pylabel) (7.25.0)\n",
      "Requirement already satisfied: jupyterlab-widgets~=3.0.10 in /usr/local/lib/python3.8/dist-packages (from ipywidgets>=7.0.0->jupyter-bbox-widget->pylabel) (3.0.10)\n",
      "Requirement already satisfied: widgetsnbextension~=4.0.10 in /usr/local/lib/python3.8/dist-packages (from ipywidgets>=7.0.0->jupyter-bbox-widget->pylabel) (4.0.10)\n",
      "Requirement already satisfied: traitlets>=4.3.1 in /usr/local/lib/python3.8/dist-packages (from ipywidgets>=7.0.0->jupyter-bbox-widget->pylabel) (5.0.5)\n",
      "Requirement already satisfied: six>=1.5 in /usr/local/lib/python3.8/dist-packages (from python-dateutil>=2.7->matplotlib->pylabel) (1.15.0)\n",
      "Requirement already satisfied: pickleshare in /usr/local/lib/python3.8/dist-packages (from ipython>=6.1.0->ipywidgets>=7.0.0->jupyter-bbox-widget->pylabel) (0.7.5)\n",
      "Requirement already satisfied: matplotlib-inline in /usr/local/lib/python3.8/dist-packages (from ipython>=6.1.0->ipywidgets>=7.0.0->jupyter-bbox-widget->pylabel) (0.1.2)\n",
      "Requirement already satisfied: prompt-toolkit!=3.0.0,!=3.0.1,<3.1.0,>=2.0.0 in /usr/local/lib/python3.8/dist-packages (from ipython>=6.1.0->ipywidgets>=7.0.0->jupyter-bbox-widget->pylabel) (3.0.19)\n",
      "Requirement already satisfied: setuptools>=18.5 in /usr/local/lib/python3.8/dist-packages (from ipython>=6.1.0->ipywidgets>=7.0.0->jupyter-bbox-widget->pylabel) (57.4.0)\n",
      "Requirement already satisfied: pygments in /usr/local/lib/python3.8/dist-packages (from ipython>=6.1.0->ipywidgets>=7.0.0->jupyter-bbox-widget->pylabel) (2.9.0)\n",
      "Requirement already satisfied: jedi>=0.16 in /usr/local/lib/python3.8/dist-packages (from ipython>=6.1.0->ipywidgets>=7.0.0->jupyter-bbox-widget->pylabel) (0.18.0)\n",
      "Requirement already satisfied: pexpect>4.3 in /usr/local/lib/python3.8/dist-packages (from ipython>=6.1.0->ipywidgets>=7.0.0->jupyter-bbox-widget->pylabel) (4.7.0)\n",
      "Requirement already satisfied: backcall in /usr/local/lib/python3.8/dist-packages (from ipython>=6.1.0->ipywidgets>=7.0.0->jupyter-bbox-widget->pylabel) (0.2.0)\n",
      "Requirement already satisfied: decorator in /usr/local/lib/python3.8/dist-packages (from ipython>=6.1.0->ipywidgets>=7.0.0->jupyter-bbox-widget->pylabel) (5.0.9)\n",
      "Requirement already satisfied: ipython-genutils in /usr/local/lib/python3.8/dist-packages (from traitlets>=4.3.1->ipywidgets>=7.0.0->jupyter-bbox-widget->pylabel) (0.2.0)\n",
      "Requirement already satisfied: parso<0.9.0,>=0.8.0 in /usr/local/lib/python3.8/dist-packages (from jedi>=0.16->ipython>=6.1.0->ipywidgets>=7.0.0->jupyter-bbox-widget->pylabel) (0.8.2)\n",
      "Requirement already satisfied: ptyprocess>=0.5 in /usr/local/lib/python3.8/dist-packages (from pexpect>4.3->ipython>=6.1.0->ipywidgets>=7.0.0->jupyter-bbox-widget->pylabel) (0.7.0)\n",
      "Requirement already satisfied: wcwidth in /usr/local/lib/python3.8/dist-packages (from prompt-toolkit!=3.0.0,!=3.0.1,<3.1.0,>=2.0.0->ipython>=6.1.0->ipywidgets>=7.0.0->jupyter-bbox-widget->pylabel) (0.2.5)\n",
      "Installing collected packages: opencv-python, pylabel\n",
      "Successfully installed opencv-python-4.9.0.80 pylabel-0.1.55\n",
      "\u001b[33mWARNING: Running pip as the 'root' user can result in broken permissions and conflicting behaviour with the system package manager. It is recommended to use a virtual environment instead: https://pip.pypa.io/warnings/venv\u001b[0m\n",
      "\u001b[33mWARNING: You are using pip version 21.3.1; however, version 24.0 is available.\n",
      "You should consider upgrading via the '/usr/bin/python -m pip install --upgrade pip' command.\u001b[0m\n",
      "Collecting opencv-python-headless\n",
      "  Using cached opencv_python_headless-4.9.0.80-cp37-abi3-manylinux_2_17_x86_64.manylinux2014_x86_64.whl (49.6 MB)\n",
      "Requirement already satisfied: numpy>=1.17.0 in /usr/local/lib/python3.8/dist-packages (from opencv-python-headless) (1.19.5)\n",
      "Installing collected packages: opencv-python-headless\n",
      "Successfully installed opencv-python-headless-4.9.0.80\n",
      "\u001b[33mWARNING: Running pip as the 'root' user can result in broken permissions and conflicting behaviour with the system package manager. It is recommended to use a virtual environment instead: https://pip.pypa.io/warnings/venv\u001b[0m\n",
      "\u001b[33mWARNING: You are using pip version 21.3.1; however, version 24.0 is available.\n",
      "You should consider upgrading via the '/usr/bin/python -m pip install --upgrade pip' command.\u001b[0m\n",
      "Requirement already satisfied: pytesseract in /usr/local/lib/python3.8/dist-packages (0.3.10)\n",
      "Requirement already satisfied: packaging>=21.3 in /usr/local/lib/python3.8/dist-packages (from pytesseract) (24.0)\n",
      "Requirement already satisfied: Pillow>=8.0.0 in /usr/local/lib/python3.8/dist-packages (from pytesseract) (9.0.0)\n",
      "\u001b[33mWARNING: Running pip as the 'root' user can result in broken permissions and conflicting behaviour with the system package manager. It is recommended to use a virtual environment instead: https://pip.pypa.io/warnings/venv\u001b[0m\n",
      "\u001b[33mWARNING: You are using pip version 21.3.1; however, version 24.0 is available.\n",
      "You should consider upgrading via the '/usr/bin/python -m pip install --upgrade pip' command.\u001b[0m\n",
      "Requirement already satisfied: ffmpeg-python in /usr/local/lib/python3.8/dist-packages (0.2.0)\n",
      "Requirement already satisfied: future in /usr/local/lib/python3.8/dist-packages (from ffmpeg-python) (0.18.2)\n",
      "\u001b[33mWARNING: Running pip as the 'root' user can result in broken permissions and conflicting behaviour with the system package manager. It is recommended to use a virtual environment instead: https://pip.pypa.io/warnings/venv\u001b[0m\n",
      "\u001b[33mWARNING: You are using pip version 21.3.1; however, version 24.0 is available.\n",
      "You should consider upgrading via the '/usr/bin/python -m pip install --upgrade pip' command.\u001b[0m\n"
     ]
    }
   ],
   "source": [
    "!pip install numpy \n",
    "!pip install matplotlib\n",
    "!pip uninstall -y opencv-python-headless\n",
    "!pip uninstall -y opencv-python\n",
    "!pip uninstall -y cv2\n",
    "!pip uninstall -y pylabel\n",
    "!pip install pylabel\n",
    "!pip install opencv-python-headless\n",
    "!pip install pytesseract\n",
    "!pip install ffmpeg-python"
   ]
  },
  {
   "cell_type": "code",
   "execution_count": 2,
   "id": "662fc469",
   "metadata": {},
   "outputs": [],
   "source": [
    "import numpy as np\n",
    "import matplotlib.pyplot as plt \n",
    "import cv2 as cv\n",
    "from pylabel import importer\n",
    "from data_pipeline import Pipeline\n",
    "\n",
    "# Main folder \n",
    "data_folder = \"/workspace/shared-data/license-plates/\"\n",
    "annotations_folder = \"annotations/\"\n",
    "images_folder = \"../images/\"\n",
    "\n",
    "# Path to annotations\n",
    "path_to_annotations = \"/workspace/shared-data/license-plates/annotations/\"\n",
    "\n",
    "#Identify the path to get from the annotations to the images \n",
    "path_to_images = \"../images/\"\n",
    "\n",
    "pipeline = Pipeline(data_folder,\"License_Plate_Dataset\", \"udp://127.0.0.1:23000\",images_folder, annotations_folder)"
   ]
  },
  {
   "cell_type": "code",
   "execution_count": null,
   "id": "9d344d35",
   "metadata": {},
   "outputs": [],
   "source": [
    "from dataset import Object_Detection_Dataset\n",
    "\n",
    "dataset = Object_Detection_Dataset(data_folder='/workspace/shared-data/license-plates/alpr-images/cropped/',n_folds=10)\n",
    "test_data = dataset.get_testing_dataset(3)"
   ]
  },
  {
   "cell_type": "code",
   "execution_count": null,
   "id": "e6afcaf9",
   "metadata": {},
   "outputs": [],
   "source": [
    "from model import Object_Detection_Model\n",
    "\n",
    "model1 = Object_Detection_Model(cfg_file= \"lpr-yolov3.cfg\", weights_file='lpr-yolov3.weights', base_dir='/workspace/shared-data/license-plates/alpr-images/')\n",
    "model2 = Object_Detection_Model(cfg_file= \"lpr-yolov3-tiny.cfg\", weights_file='lpr-yolov3-tiny.weights', base_dir='/workspace/shared-data/license-plates/alpr-images/')"
   ]
  },
  {
   "cell_type": "code",
   "execution_count": null,
   "id": "e25499ca",
   "metadata": {},
   "outputs": [],
   "source": [
    "for img_file in test_data:\n",
    "    print(img_file)\n",
    "    results1 = model1.test(img_file,list())\n",
    "    results2 = model2.test(img_file,list())\n",
    "    print(results1)\n",
    "    print(results2)"
   ]
  },
  {
   "cell_type": "code",
   "execution_count": null,
   "id": "b5bd251f",
   "metadata": {},
   "outputs": [],
   "source": [
    "print(results1)\n",
    "print(results2)"
   ]
  },
  {
   "cell_type": "code",
   "execution_count": null,
   "id": "e3431eba",
   "metadata": {},
   "outputs": [],
   "source": [
    "original_img = cv.imread('/workspace/shared-data/license-plates/alpr-images/cropped/image12.jpeg')\n",
    "resized_img = cv.resize(original_img, (416, 416)) \n",
    "plt.imshow(cv.cvtColor(resized_img, cv.COLOR_BGR2RGB))  \n"
   ]
  },
  {
   "cell_type": "code",
   "execution_count": null,
   "id": "f3e3414a",
   "metadata": {},
   "outputs": [],
   "source": [
    "coords1 = results1[0][0]\n",
    "coords2 = results1[1][0]\n",
    "plt.imshow(cv.cvtColor(resized_img, cv.COLOR_BGR2RGB))  "
   ]
  },
  {
   "cell_type": "code",
   "execution_count": null,
   "id": "c9120a1a",
   "metadata": {},
   "outputs": [],
   "source": [
    "cropped_image1 = resized_img[coords1[1]:coords1[1]+coords1[3] ,coords1[0]:coords1[0] + coords1[2] ]\n",
    "plt.imshow(cv.cvtColor(cropped_image1, cv.COLOR_BGR2RGB)) "
   ]
  },
  {
   "cell_type": "code",
   "execution_count": null,
   "id": "52837199",
   "metadata": {},
   "outputs": [],
   "source": [
    "cropped_image2 = resized_img[coords2[1]:coords2[1]+coords2[3] ,coords2[0]:coords2[0] + coords2[2] ]\n",
    "plt.imshow(cv.cvtColor(cropped_image2, cv.COLOR_BGR2RGB)) "
   ]
  },
  {
   "cell_type": "code",
   "execution_count": 3,
   "id": "34862544",
   "metadata": {},
   "outputs": [
    {
     "name": "stdout",
     "output_type": "stream",
     "text": [
      "1\n",
      "/workspace/shared-data/license-plates/alpr-images/original/image1.jpeg\n",
      "/workspace/shared-data/license-plates/alpr-images/original/image2.jpeg\n",
      "/workspace/shared-data/license-plates/alpr-images/original/image3.jpeg\n",
      "/workspace/shared-data/license-plates/alpr-images/original/image4.jpeg\n",
      "/workspace/shared-data/license-plates/alpr-images/original/image5.jpeg\n",
      "/workspace/shared-data/license-plates/alpr-images/original/image6.jpeg\n",
      "/workspace/shared-data/license-plates/alpr-images/original/image7.jpeg\n",
      "/workspace/shared-data/license-plates/alpr-images/original/image8.jpeg\n",
      "/workspace/shared-data/license-plates/alpr-images/original/image9.jpeg\n",
      "/workspace/shared-data/license-plates/alpr-images/original/image10.jpeg\n",
      "/workspace/shared-data/license-plates/alpr-images/original/image11.jpeg\n",
      "/workspace/shared-data/license-plates/alpr-images/original/image12.jpeg\n",
      "/workspace/shared-data/license-plates/alpr-images/original/image13.jpeg\n",
      "/workspace/shared-data/license-plates/alpr-images/original/image14.jpeg\n",
      "/workspace/shared-data/license-plates/alpr-images/original/image15.jpeg\n",
      "/workspace/shared-data/license-plates/alpr-images/original/image16.jpeg\n",
      "/workspace/shared-data/license-plates/alpr-images/original/image17.jpeg\n",
      "/workspace/shared-data/license-plates/alpr-images/original/image18.jpeg\n",
      "/workspace/shared-data/license-plates/alpr-images/original/image19.jpeg\n",
      "/workspace/shared-data/license-plates/alpr-images/original/image20.jpeg\n",
      "/workspace/shared-data/license-plates/alpr-images/original/image21.jpeg\n",
      "/workspace/shared-data/license-plates/alpr-images/original/image22.jpeg\n",
      "/workspace/shared-data/license-plates/alpr-images/original/image23.jpeg\n",
      "/workspace/shared-data/license-plates/alpr-images/original/image24.jpeg\n",
      "/workspace/shared-data/license-plates/alpr-images/original/image25.jpeg\n",
      "/workspace/shared-data/license-plates/alpr-images/original/image26.jpeg\n",
      "/workspace/shared-data/license-plates/alpr-images/original/image27.jpeg\n",
      "/workspace/shared-data/license-plates/alpr-images/original/image28.jpeg\n",
      "/workspace/shared-data/license-plates/alpr-images/original/image29.jpeg\n",
      "/workspace/shared-data/license-plates/alpr-images/original/image30.jpeg\n",
      "/workspace/shared-data/license-plates/alpr-images/original/image31.jpeg\n",
      "/workspace/shared-data/license-plates/alpr-images/original/image32.jpeg\n",
      "/workspace/shared-data/license-plates/alpr-images/original/image33.jpeg\n",
      "/workspace/shared-data/license-plates/alpr-images/original/image34.jpeg\n",
      "/workspace/shared-data/license-plates/alpr-images/original/image35.jpeg\n",
      "/workspace/shared-data/license-plates/alpr-images/original/image36.jpeg\n",
      "/workspace/shared-data/license-plates/alpr-images/original/image37.jpeg\n",
      "/workspace/shared-data/license-plates/alpr-images/original/image38.jpeg\n",
      "/workspace/shared-data/license-plates/alpr-images/original/image39.jpeg\n",
      "/workspace/shared-data/license-plates/alpr-images/original/image40.jpeg\n",
      "/workspace/shared-data/license-plates/alpr-images/original/image41.jpeg\n",
      "/workspace/shared-data/license-plates/alpr-images/original/image42.jpeg\n",
      "/workspace/shared-data/license-plates/alpr-images/original/image43.jpeg\n",
      "/workspace/shared-data/license-plates/alpr-images/original/image44.jpeg\n",
      "/workspace/shared-data/license-plates/alpr-images/original/image45.jpeg\n",
      "/workspace/shared-data/license-plates/alpr-images/original/image46.jpeg\n",
      "/workspace/shared-data/license-plates/alpr-images/original/image47.jpeg\n",
      "/workspace/shared-data/license-plates/alpr-images/original/image48.jpeg\n",
      "/workspace/shared-data/license-plates/alpr-images/original/image49.jpeg\n",
      "/workspace/shared-data/license-plates/alpr-images/original/image50.jpeg\n",
      "/workspace/shared-data/license-plates/alpr-images/original/image51.jpeg\n",
      "/workspace/shared-data/license-plates/alpr-images/original/image52.jpeg\n",
      "/workspace/shared-data/license-plates/alpr-images/original/image53.jpeg\n",
      "/workspace/shared-data/license-plates/alpr-images/original/image54.jpeg\n",
      "/workspace/shared-data/license-plates/alpr-images/original/image55.jpeg\n",
      "/workspace/shared-data/license-plates/alpr-images/original/image56.jpeg\n",
      "/workspace/shared-data/license-plates/alpr-images/original/image57.jpeg\n",
      "/workspace/shared-data/license-plates/alpr-images/original/image58.jpeg\n",
      "/workspace/shared-data/license-plates/alpr-images/original/image59.jpeg\n",
      "/workspace/shared-data/license-plates/alpr-images/original/image60.jpeg\n",
      "/workspace/shared-data/license-plates/alpr-images/original/image61.jpeg\n",
      "/workspace/shared-data/license-plates/alpr-images/original/image62.jpeg\n",
      "/workspace/shared-data/license-plates/alpr-images/original/image63.jpeg\n",
      "/workspace/shared-data/license-plates/alpr-images/original/image64.jpeg\n",
      "/workspace/shared-data/license-plates/alpr-images/original/image65.jpeg\n",
      "/workspace/shared-data/license-plates/alpr-images/original/image66.jpeg\n",
      "/workspace/shared-data/license-plates/alpr-images/original/image67.jpeg\n",
      "/workspace/shared-data/license-plates/alpr-images/original/image68.jpeg\n",
      "/workspace/shared-data/license-plates/alpr-images/original/image69.jpeg\n",
      "/workspace/shared-data/license-plates/alpr-images/original/image70.jpeg\n",
      "/workspace/shared-data/license-plates/alpr-images/original/image71.jpeg\n",
      "/workspace/shared-data/license-plates/alpr-images/original/image72.jpeg\n",
      "/workspace/shared-data/license-plates/alpr-images/original/image73.jpeg\n",
      "/workspace/shared-data/license-plates/alpr-images/original/image74.jpeg\n",
      "/workspace/shared-data/license-plates/alpr-images/original/image75.jpeg\n",
      "/workspace/shared-data/license-plates/alpr-images/original/image76.jpeg\n",
      "/workspace/shared-data/license-plates/alpr-images/original/image77.jpeg\n",
      "/workspace/shared-data/license-plates/alpr-images/original/image78.jpeg\n",
      "/workspace/shared-data/license-plates/alpr-images/original/image79.jpeg\n",
      "/workspace/shared-data/license-plates/alpr-images/original/image80.jpeg\n",
      "/workspace/shared-data/license-plates/alpr-images/original/image81.jpeg\n",
      "/workspace/shared-data/license-plates/alpr-images/original/image82.jpeg\n",
      "/workspace/shared-data/license-plates/alpr-images/original/image83.jpeg\n",
      "/workspace/shared-data/license-plates/alpr-images/original/image84.jpeg\n",
      "/workspace/shared-data/license-plates/alpr-images/original/image85.jpeg\n",
      "/workspace/shared-data/license-plates/alpr-images/original/image86.jpeg\n",
      "/workspace/shared-data/license-plates/alpr-images/original/image87.jpeg\n",
      "/workspace/shared-data/license-plates/alpr-images/original/image88.jpeg\n",
      "/workspace/shared-data/license-plates/alpr-images/original/image89.jpeg\n",
      "/workspace/shared-data/license-plates/alpr-images/original/image90.jpeg\n",
      "/workspace/shared-data/license-plates/alpr-images/original/image91.jpeg\n",
      "/workspace/shared-data/license-plates/alpr-images/original/image92.jpeg\n",
      "/workspace/shared-data/license-plates/alpr-images/original/image93.jpeg\n",
      "/workspace/shared-data/license-plates/alpr-images/original/image94.jpeg\n",
      "/workspace/shared-data/license-plates/alpr-images/original/image95.jpeg\n",
      "/workspace/shared-data/license-plates/alpr-images/original/image96.jpeg\n",
      "/workspace/shared-data/license-plates/alpr-images/original/image97.jpeg\n",
      "/workspace/shared-data/license-plates/alpr-images/original/image98.jpeg\n",
      "/workspace/shared-data/license-plates/alpr-images/original/image99.jpeg\n",
      "/workspace/shared-data/license-plates/alpr-images/original/image100.jpeg\n",
      "/workspace/shared-data/license-plates/alpr-images/original/image101.jpeg\n",
      "/workspace/shared-data/license-plates/alpr-images/original/image102.jpeg\n",
      "/workspace/shared-data/license-plates/alpr-images/original/image103.jpeg\n",
      "/workspace/shared-data/license-plates/alpr-images/original/image104.jpeg\n",
      "/workspace/shared-data/license-plates/alpr-images/original/image105.jpeg\n",
      "/workspace/shared-data/license-plates/alpr-images/original/image106.jpeg\n",
      "/workspace/shared-data/license-plates/alpr-images/original/image107.jpeg\n",
      "/workspace/shared-data/license-plates/alpr-images/original/image108.jpeg\n",
      "/workspace/shared-data/license-plates/alpr-images/original/image109.jpeg\n",
      "110\n"
     ]
    }
   ],
   "source": [
    "# Perform the extract, transform and load\n",
    "pipeline.extract()"
   ]
  },
  {
   "cell_type": "code",
   "execution_count": null,
   "id": "29452e03",
   "metadata": {},
   "outputs": [],
   "source": [
    "original_img = cv.imread('/workspace/shared-data/license-plates/alpr-images/original/image2.jpeg')\n",
    "cropped_image = original_img[1250:3000 ,700 :3000 ]\n",
    "plt.imshow(cv.cvtColor(cropped_image, cv.COLOR_BGR2RGB))  "
   ]
  },
  {
   "cell_type": "code",
   "execution_count": null,
   "id": "e454b958",
   "metadata": {},
   "outputs": [],
   "source": [
    "pipeline.transform()\n",
    "cropped_img_list = pipeline.load()"
   ]
  },
  {
   "cell_type": "code",
   "execution_count": null,
   "id": "96dccce1",
   "metadata": {},
   "outputs": [],
   "source": [
    "plt.imshow(cv.cvtColor(cropped_img_list[17], cv.COLOR_BGR2RGB))  "
   ]
  },
  {
   "cell_type": "code",
   "execution_count": null,
   "id": "93dbcbeb",
   "metadata": {},
   "outputs": [],
   "source": [
    "img_test = cv.imread('/workspace/shared-data/license-plates/alpr-images/image470.jpeg')\n",
    "#cropped_image = img_test[1250:3000 ,700 :3000 ]\n",
    "plt.imshow(cv.cvtColor(img_test, cv.COLOR_BGR2RGB))  "
   ]
  },
  {
   "cell_type": "code",
   "execution_count": null,
   "id": "5fa2465b",
   "metadata": {},
   "outputs": [],
   "source": [
    "pipeline.convert_pascal_to_coco_format(\"N2.jpeg\")\n",
    "pipeline.convert_pascal_to_coco_format(\"N5.jpeg\")\n",
    "pipeline.convert_pascal_to_coco_format()"
   ]
  },
  {
   "cell_type": "code",
   "execution_count": null,
   "id": "b420b542",
   "metadata": {},
   "outputs": [],
   "source": [
    "dataset = importer.ImportVOC(path=path_to_annotations, path_to_images=path_to_images, name=\"License_Plate_Dataset\")\n",
    "dataset.df.head(5)"
   ]
  },
  {
   "cell_type": "code",
   "execution_count": null,
   "id": "a605e9a9",
   "metadata": {},
   "outputs": [],
   "source": [
    "from IPython.display import display\n",
    "display(dataset.visualize.ShowBoundingBoxes(1))\n",
    "display(dataset.visualize.ShowBoundingBoxes(\"N62.jpeg\"))"
   ]
  },
  {
   "cell_type": "code",
   "execution_count": null,
   "id": "c597796c",
   "metadata": {},
   "outputs": [],
   "source": [
    "output_path_coco = \"/workspace/shared-data/license-plates/coco/License_Plate_Dataset.json\"\n",
    "dataset.export.ExportToCoco(output_path=output_path_coco)"
   ]
  },
  {
   "cell_type": "code",
   "execution_count": null,
   "id": "7aca10f3",
   "metadata": {},
   "outputs": [],
   "source": [
    "#Specify path to the coco.json file\n",
    "path_to_annotations = \"/workspace/shared-data/license-plates/coco/N2.json\"\n",
    "\n",
    "dataset_coco = importer.ImportCoco(path_to_annotations, path_to_images=path_to_images, name=\"License_Plate_coco\")\n",
    "dataset_coco.df.head(5)"
   ]
  },
  {
   "cell_type": "markdown",
   "id": "2173d043",
   "metadata": {},
   "source": [
    "Now we will load the Coco Json that we extracted and display the same images as above"
   ]
  },
  {
   "cell_type": "code",
   "execution_count": null,
   "id": "58c74d4f",
   "metadata": {},
   "outputs": [],
   "source": [
    "from IPython.display import display\n",
    "display(dataset_coco.visualize.ShowBoundingBoxes(\"N2.jpeg\"))"
   ]
  },
  {
   "cell_type": "markdown",
   "id": "95b96224",
   "metadata": {},
   "source": [
    "Now we will load the Yolo files and check if the images are the same. It is interesting that the indexing is different "
   ]
  },
  {
   "cell_type": "code",
   "execution_count": null,
   "id": "c85c1be2",
   "metadata": {},
   "outputs": [],
   "source": [
    "# Output the Yolo files in a folder named yolo\n",
    "pipeline.convert_pascal_to_yolo_format(\"N5.jpeg\")"
   ]
  },
  {
   "cell_type": "code",
   "execution_count": null,
   "id": "bf96aa64",
   "metadata": {},
   "outputs": [],
   "source": [
    "#Specify path to the coco.json file\n",
    "path_to_annotations_yolo = \"/workspace/shared-data/license-plates/yolo/labels\"\n",
    "path_to_images_yolo = \"../../images/\"\n",
    "\n",
    "dataset_yolo = importer.ImportYoloV5(path_to_annotations_yolo , path_to_images=path_to_images_yolo, name=\"License_Plate_yolo\")\n",
    "dataset_yolo.df.head(5)"
   ]
  },
  {
   "cell_type": "code",
   "execution_count": null,
   "id": "623a5ed6",
   "metadata": {},
   "outputs": [],
   "source": [
    "from IPython.display import display\n",
    "display(dataset_yolo.visualize.ShowBoundingBoxes(\"N5.jpeg\"))"
   ]
  },
  {
   "cell_type": "markdown",
   "id": "1cb9effb",
   "metadata": {},
   "source": [
    "Now that we have tested the above, we will run through a script to generate all of these"
   ]
  },
  {
   "cell_type": "code",
   "execution_count": null,
   "id": "60a72f46",
   "metadata": {},
   "outputs": [],
   "source": [
    "import os\n",
    "\n",
    "# assign directory\n",
    "directory = '/workspace/shared-data/license-plates/images'\n",
    " \n",
    "# Loop through the directory\n",
    "for filename in os.listdir(directory):\n",
    "    f = os.path.join(directory, filename)\n",
    "    \n",
    "    # checking if it is a file\n",
    "    if os.path.isfile(f):\n",
    "        pipeline.convert_pascal_to_coco_format(filename)\n",
    "        pipeline.convert_pascal_to_yolo_format(filename)"
   ]
  },
  {
   "cell_type": "markdown",
   "id": "e30e24b2",
   "metadata": {},
   "source": [
    "We will now leverage methods to crop the vehicle image to get the license plate and then use it to detect the license plate number"
   ]
  },
  {
   "cell_type": "code",
   "execution_count": null,
   "id": "4e5bbf46",
   "metadata": {},
   "outputs": [],
   "source": [
    "cropped_img = pipeline.get_licence_plate_image(\"N5.jpeg\")"
   ]
  },
  {
   "cell_type": "code",
   "execution_count": null,
   "id": "f3df1025",
   "metadata": {},
   "outputs": [],
   "source": [
    "licence_plate_no =  pipeline.detect_licence_plate(\"N5_cropped.jpeg\")\n",
    "print(licence_plate_no)"
   ]
  },
  {
   "cell_type": "markdown",
   "id": "5bc6e856",
   "metadata": {},
   "source": [
    "AREA BELOW IN THE NOTEBOOK IS FOR FURTHER EXPERIMENTATION"
   ]
  },
  {
   "cell_type": "code",
   "execution_count": null,
   "id": "13eef288",
   "metadata": {},
   "outputs": [],
   "source": [
    "#Specify path to the coco.json file\n",
    "\n",
    "img_name = \"N190\"\n",
    "img_extension = \".jpeg\"\n",
    "img_file_name = img_name + img_extension\n",
    "path_to_annotations = \"/workspace/shared-data/license-plates/coco/\" + img_name + \".json\"\n",
    "path_to_images = \"../images/\"\n",
    "dataset_coco = importer.ImportCoco(path_to_annotations, path_to_images=path_to_images, name=\"License_Plate_coco\")\n",
    "\n",
    "img_row = dataset_coco.df.loc[dataset_coco.df['img_filename'] == img_file_name]\n",
    "x = int(img_row['ann_bbox_xmin'])\n",
    "y = int(img_row['ann_bbox_ymin'])\n",
    "w = int(img_row['ann_bbox_xmax'])\n",
    "h = int(img_row['ann_bbox_ymax'])\n",
    "print([x,y,w,h])\n",
    "\n",
    "# We will put a margin for error handling\n",
    "margin = 60 \n",
    "\n",
    "# Path to image\n",
    "img_folder = \"/workspace/shared-data/license-plates/images/\"\n",
    "img = cv.imread(img_folder + img_file_name)\n",
    "\n",
    "# Write cropped image\n",
    "cropped_image = img[y:h , x :w ]\n",
    "cropped_img_file_name = img_name + \"_cropped\" +  img_extension\n",
    "cv.imwrite(cropped_img_file_name, cropped_image)"
   ]
  },
  {
   "cell_type": "code",
   "execution_count": null,
   "id": "67374ae3",
   "metadata": {},
   "outputs": [],
   "source": [
    "plt.imshow(cv.cvtColor(img, cv.COLOR_BGR2RGB))  "
   ]
  },
  {
   "cell_type": "code",
   "execution_count": null,
   "id": "711432f1",
   "metadata": {},
   "outputs": [],
   "source": [
    "plt.imshow(cv.cvtColor(cropped_image, cv.COLOR_BGR2RGB))  "
   ]
  },
  {
   "cell_type": "code",
   "execution_count": null,
   "id": "93ce0641",
   "metadata": {},
   "outputs": [],
   "source": [
    "import pytesseract\n",
    "import re\n",
    "\n",
    "# Read the cropped image\n",
    "img_to_read = \"/workspace/shared-data/hemdev-705.603Spring24/license-plate-detection/\" + cropped_img_file_name\n",
    "img_cv = cv.imread(img_to_read)\n",
    "\n",
    "# Resize the image slighty to see if it covers slightly misoriented values\n",
    "img_resized = cv.resize(img_cv, None, fx = 2, fy = 2,  interpolation = cv.INTER_CUBIC)\n",
    "\n",
    "# Convert to grayscale\n",
    "img_gray = cv.cvtColor(img_cv, cv.COLOR_BGR2GRAY)\n",
    "\n",
    "# Predict using OCR\n",
    "prediction = pytesseract.image_to_string(img_gray, lang ='eng', config ='--oem 3 --psm 8 ')\n",
    "\n",
    "# Extract the text between first \n",
    "license_plate_no = prediction\n",
    "print(license_plate_no)\n",
    "filter_predicted_result = prediction.split()\n",
    "for component in filter_predicted_result:\n",
    "    if (len(component) > 4):\n",
    "        license_plate_no = component\n",
    "        break\n",
    "    \n",
    "print(\"second = \" + license_plate_no)\n",
    "def letter_or_digit(s):\n",
    "    m = re.search(r'[a-z0-9]', s, re.I)\n",
    "    if m is not None:\n",
    "        return m.start()\n",
    "    return -1\n",
    "\n",
    "start = letter_or_digit(prediction)\n",
    "license_plate_no = prediction[start:]\n",
    "print(prediction)\n",
    "print(license_plate_no)\n",
    "license_plate_no = re.sub(r'[^A-Z0-9-]+', '', license_plate_no)\n",
    "print(license_plate_no)"
   ]
  },
  {
   "cell_type": "code",
   "execution_count": null,
   "id": "3456e2cd",
   "metadata": {},
   "outputs": [],
   "source": []
  },
  {
   "cell_type": "code",
   "execution_count": null,
   "id": "f537f517",
   "metadata": {},
   "outputs": [],
   "source": []
  }
 ],
 "metadata": {
  "kernelspec": {
   "display_name": "Python 3 (ipykernel)",
   "language": "python",
   "name": "python3"
  },
  "language_info": {
   "codemirror_mode": {
    "name": "ipython",
    "version": 3
   },
   "file_extension": ".py",
   "mimetype": "text/x-python",
   "name": "python",
   "nbconvert_exporter": "python",
   "pygments_lexer": "ipython3",
   "version": "3.8.10"
  }
 },
 "nbformat": 4,
 "nbformat_minor": 5
}
