{
 "cells": [
  {
   "cell_type": "markdown",
   "id": "0db1404d",
   "metadata": {},
   "source": [
    "# Part 2: Car Factors \n",
    "\n",
    "You are to construct a predictive model that provides the duration till sold for a given model.  \n",
    "\n",
    "1. Populate the carsfactors.py following the hints in the comments\n",
    "1. Integrate with carfactors_service.py\n",
    "1. Test locally\n",
    "1. Build requirements.txt and Dockerfile\n",
    "1. Build a docker image\n",
    "1. Test Locally\n",
    "1. Push to docker hub\n",
    "1. Populate readme for both github and docker hub (with example docker commands)\n",
    "1. Populate this notebook with working output and a summary that contains an impression of the model and how to improve it.\n",
    "\n",
    "* ***Review the [codeSamplesforCategoricalData.ipynb](./codeSamplesforCategoricalData.ipynb) for code review of the categorical data manipulations***."
   ]
  },
  {
   "cell_type": "code",
   "execution_count": null,
   "id": "4dfaf120",
   "metadata": {},
   "outputs": [],
   "source": [
    "!pip install pandas \n",
    "!pip install numpy \n",
    "!pip install scikit-learn \n",
    "!pip install basemap\n",
    "!pip install flask"
   ]
  },
  {
   "cell_type": "code",
   "execution_count": null,
   "id": "c150d40a",
   "metadata": {},
   "outputs": [],
   "source": [
    "import pandas as pd\n",
    "import numpy as np\n",
    "import sklearn\n",
    "import seaborn as sns\n",
    "from IPython.display import display, HTML\n",
    "\n",
    "# Display Properties\n",
    "from IPython.display import display, HTML\n",
    "pd.set_option('display.max_rows', None)\n",
    "pd.set_option('display.max_columns', None)\n",
    "pd.set_option('display.width', 1000)\n",
    "pd.set_option('display.colheader_justify', 'center')\n",
    "pd.set_option('display.precision', 2)\n",
    "pd.set_option('display.float_format', lambda x: '%.3f' % x)\n",
    "\n",
    "sns.set(style=\"ticks\", color_codes=True)"
   ]
  },
  {
   "cell_type": "code",
   "execution_count": null,
   "id": "1f232cdf",
   "metadata": {},
   "outputs": [],
   "source": [
    "# The dataset has been added to this git repository and so we will read it from the current location\n",
    "df = pd.read_csv(\"cars.csv\")\n",
    "\n",
    "# Printing the shape tells us the volume (rows) and dimensionality (columns) of the data\n",
    "data_shape = df.shape\n",
    "print(f'# The dataset has {data_shape[0]} rows and {data_shape[1]} columns')"
   ]
  },
  {
   "cell_type": "code",
   "execution_count": null,
   "id": "55f52f91",
   "metadata": {},
   "outputs": [],
   "source": [
    "df.head()"
   ]
  },
  {
   "cell_type": "code",
   "execution_count": null,
   "id": "52e71e73",
   "metadata": {},
   "outputs": [],
   "source": [
    "engine_null = df.loc[df.engine_capacity.isnull()]\n",
    "engine_null\n",
    "\n",
    "nissan_leaf_ec = df.loc[(df.engine_type != 'electric') ]\n",
    "nissan_leaf_ec.head()"
   ]
  },
  {
   "cell_type": "code",
   "execution_count": null,
   "id": "a0267e62",
   "metadata": {},
   "outputs": [],
   "source": [
    "unique_fuel = df.engine_fuel.unique()\n",
    "unique_engine = df.engine_type.unique()\n",
    "unique_has_gas = df.engine_has_gas.unique()\n",
    "unique_has_warranty = df.has_warranty.unique()\n",
    "unique_state = df.state.unique()\n",
    "unique_drive_train = df.drivetrain.unique()\n",
    "unique_location = df.location_region.unique()\n",
    "unique_manufacturer = df.manufacturer_name.unique()\n",
    "unique_model = df.model_name.unique()\n",
    "unique_body_type = df.body_type.unique()\n",
    "unique_transmission = df.transmission.unique()"
   ]
  },
  {
   "cell_type": "code",
   "execution_count": null,
   "id": "7df54316",
   "metadata": {},
   "outputs": [],
   "source": [
    "unique_transmission"
   ]
  },
  {
   "cell_type": "code",
   "execution_count": null,
   "id": "2470f1a3",
   "metadata": {},
   "outputs": [],
   "source": [
    "from sklearn.preprocessing import OrdinalEncoder\n",
    "\n",
    "# Fix the order for body types\n",
    "ordered_body_types = ['universal','hatchback', 'cabriolet','coupe','sedan','liftback', 'suv', \n",
    "                      'minivan', 'van','pickup', 'minibus','limousine']\n",
    "if (len(ordered_body_types) == len(unique_body_type)):\n",
    "    print(\"We are good with body types\")\n",
    "else:\n",
    "    print(\"Check if you missed any body types\")\n",
    "\n",
    "# Create the Ordinal Encoder\n",
    "oe = OrdinalEncoder(categories=[ordered_body_types])"
   ]
  },
  {
   "cell_type": "code",
   "execution_count": null,
   "id": "91b609ef",
   "metadata": {},
   "outputs": [],
   "source": [
    "model_name_analysis_df = df.groupby(['manufacturer_name','model_name','body_type','engine_type','transmission','drivetrain'])['duration_listed'].count()\n",
    "manufacturer_model_analysis_df = df.groupby(['manufacturer_name','model_name'])['duration_listed'].std()\n",
    "manufacturer_analysis_df = df.groupby(['manufacturer_name','body_type','transmission','color'])['duration_listed'].std()"
   ]
  },
  {
   "cell_type": "code",
   "execution_count": null,
   "id": "6afadc47",
   "metadata": {},
   "outputs": [],
   "source": [
    "# First let's copy the dataframe to keep a backup\n",
    "df_bak = df.copy(deep=True)\n",
    "\n",
    "# We will drop these columns (see readme for rationale)\n",
    "cols_to_drop = ['engine_fuel','engine_has_gas','engine_capacity','feature_0','feature_1','feature_2','feature_3',\n",
    "               'feature_4','feature_5','feature_6','feature_7','feature_8','feature_9','is_exchangeable', \n",
    "                'location_region','model_name','number_of_photos','up_counter']\n",
    "\n",
    "trimmed_df = df.drop(columns=cols_to_drop,errors='ignore')\n",
    "trimmed_df.tail()"
   ]
  },
  {
   "cell_type": "code",
   "execution_count": null,
   "id": "72eb30b9",
   "metadata": {},
   "outputs": [],
   "source": [
    "# Let's look at missing values and confirm we are not missing anything \n",
    "display(HTML(trimmed_df.isna().sum().to_frame().to_html()))"
   ]
  },
  {
   "cell_type": "code",
   "execution_count": null,
   "id": "29d86d27",
   "metadata": {},
   "outputs": [],
   "source": [
    "# Perform the transformation on a copy of the dataframe\n",
    "body_type_df = trimmed_df[['body_type']].copy()\n",
    "body_type_df[['body_type']] = oe.fit_transform(body_type_df[['body_type']])\n",
    "body_type_df.head()"
   ]
  },
  {
   "cell_type": "code",
   "execution_count": null,
   "id": "443b0792",
   "metadata": {},
   "outputs": [],
   "source": [
    "from sklearn.preprocessing import OneHotEncoder\n",
    "\n",
    "# Apply one-hot encoder to each column with categorical data starting with transmission\n",
    "ohc_transmission = OneHotEncoder()\n",
    "ohe_transmission = ohc_transmission.fit_transform(trimmed_df['transmission'].values.reshape(-1,1)).toarray()\n",
    "df_transmission = pd.DataFrame(ohe_transmission, columns = ohc_transmission.categories_[0])\n",
    "\n",
    "# Apply one-hot encoder to Manufacturer\n",
    "ohc_manufacturer = OneHotEncoder()\n",
    "ohe_manufacturer = ohc_manufacturer.fit_transform(trimmed_df['manufacturer_name'].values.reshape(-1,1)).toarray()\n",
    "df_manufacturer = pd.DataFrame(ohe_manufacturer, columns = ohc_manufacturer.categories_[0])\n",
    "\n",
    "# Apply one-hot encoder to color\n",
    "ohc_color = OneHotEncoder()\n",
    "ohe_color = ohc_color.fit_transform(trimmed_df['color'].values.reshape(-1,1)).toarray()\n",
    "df_color = pd.DataFrame(ohe_color, columns = ohc_color.categories_[0])\n",
    "\n",
    "# Apply one-hot encoder to engine type\n",
    "ohc_engine = OneHotEncoder()\n",
    "ohe_engine = ohc_engine.fit_transform(trimmed_df['engine_type'].values.reshape(-1,1)).toarray()\n",
    "df_engine = pd.DataFrame(ohe_engine, columns = ohc_engine.categories_[0])\n",
    "\n",
    "# Apply one-hot encoder to drive train \n",
    "ohc_drivetrain = OneHotEncoder()\n",
    "ohe_drivetrain = ohc_drivetrain.fit_transform(trimmed_df['drivetrain'].values.reshape(-1,1)).toarray()\n",
    "df_drivetrain = pd.DataFrame(ohe_drivetrain, columns = ohc_drivetrain.categories_[0])\n",
    "\n",
    "# Apply one-hot encoder to state \n",
    "ohc_state = OneHotEncoder()\n",
    "ohe_state = ohc_state.fit_transform(trimmed_df['state'].values.reshape(-1,1)).toarray()\n",
    "df_state = pd.DataFrame(ohe_state, columns = ohc_state.categories_[0])"
   ]
  },
  {
   "cell_type": "code",
   "execution_count": null,
   "id": "be8c567d",
   "metadata": {},
   "outputs": [],
   "source": [
    "from sklearn.preprocessing import LabelEncoder\n",
    "from sklearn.preprocessing import MinMaxScaler\n",
    "\n",
    "# We will use Label Encoder for has_warranty since I presume having it has higher order\n",
    "le_warranty = LabelEncoder()\n",
    "has_warranty_df = trimmed_df[['has_warranty']].copy()\n",
    "has_warranty_df['has_warranty'] = le_warranty.fit_transform(has_warranty_df['has_warranty']) \n",
    "\n",
    "# Finally we will extract the other columns \n",
    "numeric_df = trimmed_df[['odometer_value','year_produced','price_usd']].copy()\n",
    "\n",
    "# Create a minmaxscaler to scale all the values\n",
    "min_max_scaler = MinMaxScaler()\n",
    "normalizable_cols = ['odometer_value','year_produced','price_usd']\n",
    "numeric_df[normalizable_cols] = min_max_scaler.fit_transform(trimmed_df[normalizable_cols])\n",
    "\n",
    "#print(min_max_scaler.transform((np.array([[27585858,2023,60897]]))))\n"
   ]
  },
  {
   "cell_type": "code",
   "execution_count": null,
   "id": "6cd40561",
   "metadata": {},
   "outputs": [],
   "source": [
    "# Concatenate all the dataframes\n",
    "car_factors_features = pd.concat([df_manufacturer, df_transmission, df_color, df_engine, df_drivetrain, df_state,\n",
    "                                 body_type_df, has_warranty_df, numeric_df], axis=1)\n",
    "car_factors_features.head()"
   ]
  },
  {
   "cell_type": "code",
   "execution_count": null,
   "id": "a0a0dd77",
   "metadata": {},
   "outputs": [],
   "source": [
    "from sklearn.svm import SVC\n",
    "from sklearn.metrics import confusion_matrix\n",
    "from sklearn.pipeline import make_pipeline\n",
    "from sklearn.model_selection import train_test_split\n",
    "from sklearn.linear_model import LinearRegression\n",
    "from sklearn.metrics import mean_squared_error\n",
    "\n",
    " # Get X & y values\n",
    "X = car_factors_features.values \n",
    "y = trimmed_df['duration_listed'].values\n",
    "    \n",
    "# Obtain training and test dataset\n",
    "X_train, X_test, y_train, y_test = train_test_split(X, y , test_size = 0.1,  random_state=0)\n",
    "#SVC(kernel='rbf')\n",
    "model = LinearRegression()\n",
    "pipe_lr = make_pipeline(model)\n",
    "pipe_lr.fit(X_train, y_train)\n",
    "y_pred = pipe_lr.predict(X_test)\n",
    "print(model.score(X_train, y_train))\n",
    "mean_squared_error(y_test, y_pred)"
   ]
  },
  {
   "cell_type": "code",
   "execution_count": null,
   "id": "1ea2e3f7",
   "metadata": {},
   "outputs": [],
   "source": [
    "import numpy as np\n",
    "\n",
    "abc = trimmed_df['transmission'].values\n",
    "print(abc)\n",
    "carTransmissionTest = np.array(['automatic'])\n",
    "print(carTransmissionTest)\n",
    "test = ohc_transmission.transform(carTransmissionTest.reshape(-1,1)).toarray()\n",
    "print(test)"
   ]
  },
  {
   "cell_type": "code",
   "execution_count": 1,
   "id": "4cd65e38",
   "metadata": {},
   "outputs": [],
   "source": [
    "from carsfactors import carsfactors\n",
    "\n",
    "cf = carsfactors()"
   ]
  },
  {
   "cell_type": "markdown",
   "id": "7ae4ba1b",
   "metadata": {},
   "source": [
    "### Test Model first - Get stats"
   ]
  },
  {
   "cell_type": "code",
   "execution_count": 2,
   "id": "81e1ce3f",
   "metadata": {},
   "outputs": [
    {
     "data": {
      "text/plain": [
       "'0.01878970628321386'"
      ]
     },
     "execution_count": 2,
     "metadata": {},
     "output_type": "execute_result"
    }
   ],
   "source": [
    "cf.model_stats()"
   ]
  },
  {
   "cell_type": "markdown",
   "id": "93589179",
   "metadata": {},
   "source": [
    "### Get Determination"
   ]
  },
  {
   "cell_type": "code",
   "execution_count": 3,
   "id": "eaa8342c",
   "metadata": {},
   "outputs": [
    {
     "name": "stdout",
     "output_type": "stream",
     "text": [
      "[[1. 0. 0.]]\n",
      "[[0. 0. 1.]]\n",
      "[[0]]\n",
      "[[0. 0. 0. 0. 0. 0. 0. 0. 0. 0. 0. 0. 0. 0. 0. 0. 0. 0. 0. 0. 0. 0. 0. 0.\n",
      "  0. 0. 0. 0. 0. 0. 0. 0. 0. 0. 0. 0. 0. 0. 0. 0. 0. 0. 0. 0. 0. 1. 0. 0.\n",
      "  0. 0. 0. 0. 0. 0. 0. 1. 0. 0. 0. 0. 0. 0. 0. 0. 0. 1. 0. 0. 0. 0. 0. 1.\n",
      "  1. 0. 0. 0. 1. 0. 6. 0.]]\n"
     ]
    },
    {
     "name": "stderr",
     "output_type": "stream",
     "text": [
      "/usr/local/lib/python3.8/dist-packages/sklearn/utils/validation.py:63: DataConversionWarning: A column-vector y was passed when a 1d array was expected. Please change the shape of y to (n_samples, ), for example using ravel().\n",
      "  return f(*args, **kwargs)\n"
     ]
    },
    {
     "data": {
      "text/plain": [
       "'[4183675.0234375]'"
      ]
     },
     "execution_count": 3,
     "metadata": {},
     "output_type": "execute_result"
    }
   ],
   "source": [
    "cf.model_infer('Subaru','automatic', 'silver', 'gasoline', 'all', 'new', 'suv', True, 19000, 2018, 49000)"
   ]
  },
  {
   "cell_type": "code",
   "execution_count": null,
   "id": "5fc61be5",
   "metadata": {},
   "outputs": [],
   "source": []
  },
  {
   "cell_type": "markdown",
   "id": "4ed8e9b5",
   "metadata": {},
   "source": [
    "### Start up the service"
   ]
  },
  {
   "cell_type": "code",
   "execution_count": null,
   "id": "fbac74d6",
   "metadata": {},
   "outputs": [],
   "source": [
    "!python carfactors_service.py"
   ]
  },
  {
   "cell_type": "markdown",
   "id": "e4bf3523",
   "metadata": {},
   "source": [
    "Try out the links \n",
    "* [stats](http://fillin)\n",
    "* [determination](http://fillin)"
   ]
  },
  {
   "cell_type": "markdown",
   "id": "fcd5752a",
   "metadata": {},
   "source": [
    "### You must kill the kernel to try again for the port stays locked to the current kernel"
   ]
  },
  {
   "cell_type": "markdown",
   "id": "17293cdd",
   "metadata": {},
   "source": [
    "# Summary\n",
    "* Assignment and Model Results\n",
    "* Techniques to improve the results"
   ]
  },
  {
   "cell_type": "markdown",
   "id": "8aa41216",
   "metadata": {},
   "source": [
    "PUT YOUR ANSWERS HERE which could include additional cells with working code examples"
   ]
  },
  {
   "cell_type": "code",
   "execution_count": null,
   "id": "568804aa",
   "metadata": {},
   "outputs": [],
   "source": []
  }
 ],
 "metadata": {
  "kernelspec": {
   "display_name": "Python 3 (ipykernel)",
   "language": "python",
   "name": "python3"
  },
  "language_info": {
   "codemirror_mode": {
    "name": "ipython",
    "version": 3
   },
   "file_extension": ".py",
   "mimetype": "text/x-python",
   "name": "python",
   "nbconvert_exporter": "python",
   "pygments_lexer": "ipython3",
   "version": "3.8.10"
  }
 },
 "nbformat": 4,
 "nbformat_minor": 5
}
